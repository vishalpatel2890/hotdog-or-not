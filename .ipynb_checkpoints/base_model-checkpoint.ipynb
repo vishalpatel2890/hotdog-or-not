{
 "cells": [
  {
   "cell_type": "markdown",
   "metadata": {
    "colab_type": "text",
    "id": "oqSSWALp73uJ"
   },
   "source": [
    "# Hot Dog Or Not"
   ]
  },
  {
   "cell_type": "markdown",
   "metadata": {
    "colab_type": "text",
    "id": "4NF7Fevc73uL"
   },
   "source": [
    "##  Import Libraries and Connect to Drive"
   ]
  },
  {
   "cell_type": "code",
   "execution_count": 1,
   "metadata": {
    "colab": {
     "base_uri": "https://localhost:8080/",
     "height": 34
    },
    "colab_type": "code",
    "id": "G96i9Pql73uM",
    "outputId": "04454ec4-d8f5-4fc6-a39c-d4617eb9d73c"
   },
   "outputs": [
    {
     "name": "stderr",
     "output_type": "stream",
     "text": [
      "Using TensorFlow backend.\n"
     ]
    }
   ],
   "source": [
    "import matplotlib.pyplot as plt\n",
    "import numpy as np\n",
    "import os, shutil\n",
    "from keras import models\n",
    "from keras import layers\n",
    "from sklearn.metrics import confusion_matrix, f1_score\n",
    "np.random.seed(123)\n",
    "from keras.models import load_model\n",
    "from keras.preprocessing.image import ImageDataGenerator, array_to_img, img_to_array, load_img"
   ]
  },
  {
   "cell_type": "code",
   "execution_count": 2,
   "metadata": {
    "colab": {
     "base_uri": "https://localhost:8080/",
     "height": 51
    },
    "colab_type": "code",
    "id": "6N6gtC7Q78Os",
    "outputId": "325ac033-7942-45ba-8e85-290d85a7ef2f"
   },
   "outputs": [
    {
     "name": "stdout",
     "output_type": "stream",
     "text": [
      "\u001b[?25l\r",
      "\u001b[K    1% |▎                               | 10kB 17.8MB/s eta 0:00:01\r",
      "\u001b[K    2% |▋                               | 20kB 1.7MB/s eta 0:00:01\r",
      "\u001b[K    3% |█                               | 30kB 2.5MB/s eta 0:00:01\r",
      "\u001b[K    4% |█▎                              | 40kB 1.7MB/s eta 0:00:01\r",
      "\u001b[K    5% |█▋                              | 51kB 2.1MB/s eta 0:00:01\r",
      "\u001b[K    6% |██                              | 61kB 2.5MB/s eta 0:00:01\r",
      "\u001b[K    7% |██▎                             | 71kB 2.8MB/s eta 0:00:01\r",
      "\u001b[K    8% |██▋                             | 81kB 3.2MB/s eta 0:00:01\r",
      "\u001b[K    9% |███                             | 92kB 3.6MB/s eta 0:00:01\r",
      "\u001b[K    10% |███▎                            | 102kB 2.8MB/s eta 0:00:01\r",
      "\u001b[K    11% |███▋                            | 112kB 2.8MB/s eta 0:00:01\r",
      "\u001b[K    12% |████                            | 122kB 4.0MB/s eta 0:00:01\r",
      "\u001b[K    13% |████▎                           | 133kB 4.0MB/s eta 0:00:01\r",
      "\u001b[K    14% |████▋                           | 143kB 7.7MB/s eta 0:00:01\r",
      "\u001b[K    15% |█████                           | 153kB 7.7MB/s eta 0:00:01\r",
      "\u001b[K    16% |█████▎                          | 163kB 7.7MB/s eta 0:00:01\r",
      "\u001b[K    17% |█████▋                          | 174kB 7.8MB/s eta 0:00:01\r",
      "\u001b[K    18% |██████                          | 184kB 7.8MB/s eta 0:00:01\r",
      "\u001b[K    19% |██████▎                         | 194kB 4.4MB/s eta 0:00:01\r",
      "\u001b[K    20% |██████▋                         | 204kB 7.9MB/s eta 0:00:01\r",
      "\u001b[K    21% |███████                         | 215kB 7.9MB/s eta 0:00:01\r",
      "\u001b[K    22% |███████▎                        | 225kB 7.9MB/s eta 0:00:01\r",
      "\u001b[K    23% |███████▋                        | 235kB 7.9MB/s eta 0:00:01\r",
      "\u001b[K    24% |████████                        | 245kB 8.0MB/s eta 0:00:01\r",
      "\u001b[K    25% |████████▎                       | 256kB 8.0MB/s eta 0:00:01\r",
      "\u001b[K    26% |████████▋                       | 266kB 7.9MB/s eta 0:00:01\r",
      "\u001b[K    27% |█████████                       | 276kB 7.9MB/s eta 0:00:01\r",
      "\u001b[K    29% |█████████▎                      | 286kB 7.9MB/s eta 0:00:01\r",
      "\u001b[K    30% |█████████▋                      | 296kB 39.9MB/s eta 0:00:01\r",
      "\u001b[K    31% |██████████                      | 307kB 50.5MB/s eta 0:00:01\r",
      "\u001b[K    32% |██████████▎                     | 317kB 52.6MB/s eta 0:00:01\r",
      "\u001b[K    33% |██████████▋                     | 327kB 53.0MB/s eta 0:00:01\r",
      "\u001b[K    34% |███████████                     | 337kB 53.5MB/s eta 0:00:01\r",
      "\u001b[K    35% |███████████▎                    | 348kB 47.6MB/s eta 0:00:01\r",
      "\u001b[K    36% |███████████▋                    | 358kB 47.3MB/s eta 0:00:01\r",
      "\u001b[K    37% |████████████                    | 368kB 54.5MB/s eta 0:00:01\r",
      "\u001b[K    38% |████████████▎                   | 378kB 10.1MB/s eta 0:00:01\r",
      "\u001b[K    39% |████████████▋                   | 389kB 10.1MB/s eta 0:00:01\r",
      "\u001b[K    40% |█████████████                   | 399kB 10.0MB/s eta 0:00:01\r",
      "\u001b[K    41% |█████████████▎                  | 409kB 10.0MB/s eta 0:00:01\r",
      "\u001b[K    42% |█████████████▋                  | 419kB 10.0MB/s eta 0:00:01\r",
      "\u001b[K    43% |██████████████                  | 430kB 9.9MB/s eta 0:00:01\r",
      "\u001b[K    44% |██████████████▎                 | 440kB 9.9MB/s eta 0:00:01\r",
      "\u001b[K    45% |██████████████▋                 | 450kB 9.9MB/s eta 0:00:01\r",
      "\u001b[K    46% |███████████████                 | 460kB 9.9MB/s eta 0:00:01\r",
      "\u001b[K    47% |███████████████▎                | 471kB 9.9MB/s eta 0:00:01\r",
      "\u001b[K    48% |███████████████▋                | 481kB 50.2MB/s eta 0:00:01\r",
      "\u001b[K    49% |████████████████                | 491kB 50.1MB/s eta 0:00:01\r",
      "\u001b[K    50% |████████████████▎               | 501kB 51.6MB/s eta 0:00:01\r",
      "\u001b[K    51% |████████████████▋               | 512kB 48.8MB/s eta 0:00:01\r",
      "\u001b[K    52% |█████████████████               | 522kB 48.4MB/s eta 0:00:01\r",
      "\u001b[K    53% |█████████████████▎              | 532kB 50.4MB/s eta 0:00:01\r",
      "\u001b[K    54% |█████████████████▋              | 542kB 50.5MB/s eta 0:00:01\r",
      "\u001b[K    55% |██████████████████              | 552kB 56.9MB/s eta 0:00:01\r",
      "\u001b[K    57% |██████████████████▎             | 563kB 57.2MB/s eta 0:00:01\r",
      "\u001b[K    58% |██████████████████▋             | 573kB 56.4MB/s eta 0:00:01\r",
      "\u001b[K    59% |███████████████████             | 583kB 56.1MB/s eta 0:00:01\r",
      "\u001b[K    60% |███████████████████▎            | 593kB 57.0MB/s eta 0:00:01\r",
      "\u001b[K    61% |███████████████████▋            | 604kB 55.8MB/s eta 0:00:01\r",
      "\u001b[K    62% |████████████████████            | 614kB 59.3MB/s eta 0:00:01\r",
      "\u001b[K    63% |████████████████████▎           | 624kB 58.5MB/s eta 0:00:01\r",
      "\u001b[K    64% |████████████████████▋           | 634kB 59.2MB/s eta 0:00:01\r",
      "\u001b[K    65% |█████████████████████           | 645kB 61.2MB/s eta 0:00:01\r",
      "\u001b[K    66% |█████████████████████▎          | 655kB 11.3MB/s eta 0:00:01\r",
      "\u001b[K    67% |█████████████████████▋          | 665kB 10.7MB/s eta 0:00:01\r",
      "\u001b[K    68% |██████████████████████          | 675kB 10.6MB/s eta 0:00:01\r",
      "\u001b[K    69% |██████████████████████▎         | 686kB 10.5MB/s eta 0:00:01\r",
      "\u001b[K    70% |██████████████████████▋         | 696kB 10.5MB/s eta 0:00:01\r",
      "\u001b[K    71% |███████████████████████         | 706kB 10.6MB/s eta 0:00:01\r",
      "\u001b[K    72% |███████████████████████▎        | 716kB 10.6MB/s eta 0:00:01\r",
      "\u001b[K    73% |███████████████████████▋        | 727kB 10.6MB/s eta 0:00:01\r",
      "\u001b[K    74% |████████████████████████        | 737kB 10.6MB/s eta 0:00:01\r",
      "\u001b[K    75% |████████████████████████▎       | 747kB 10.5MB/s eta 0:00:01\r",
      "\u001b[K    76% |████████████████████████▋       | 757kB 44.0MB/s eta 0:00:01\r",
      "\u001b[K    77% |████████████████████████▉       | 768kB 57.7MB/s eta 0:00:01\r",
      "\u001b[K    78% |█████████████████████████▏      | 778kB 60.7MB/s eta 0:00:01\r",
      "\u001b[K    79% |█████████████████████████▌      | 788kB 63.1MB/s eta 0:00:01\r",
      "\u001b[K    80% |█████████████████████████▉      | 798kB 62.1MB/s eta 0:00:01\r",
      "\u001b[K    81% |██████████████████████████▏     | 808kB 61.6MB/s eta 0:00:01\r",
      "\u001b[K    82% |██████████████████████████▌     | 819kB 61.1MB/s eta 0:00:01\r",
      "\u001b[K    83% |██████████████████████████▉     | 829kB 62.0MB/s eta 0:00:01\r",
      "\u001b[K    85% |███████████████████████████▏    | 839kB 63.5MB/s eta 0:00:01\r",
      "\u001b[K    86% |███████████████████████████▌    | 849kB 62.9MB/s eta 0:00:01\r",
      "\u001b[K    87% |███████████████████████████▉    | 860kB 56.2MB/s eta 0:00:01\r",
      "\u001b[K    88% |████████████████████████████▏   | 870kB 55.1MB/s eta 0:00:01\r",
      "\u001b[K    89% |████████████████████████████▌   | 880kB 55.3MB/s eta 0:00:01\r",
      "\u001b[K    90% |████████████████████████████▉   | 890kB 57.0MB/s eta 0:00:01\r",
      "\u001b[K    91% |█████████████████████████████▏  | 901kB 57.2MB/s eta 0:00:01\r",
      "\u001b[K    92% |█████████████████████████████▌  | 911kB 58.0MB/s eta 0:00:01\r",
      "\u001b[K    93% |█████████████████████████████▉  | 921kB 57.9MB/s eta 0:00:01\r",
      "\u001b[K    94% |██████████████████████████████▏ | 931kB 57.9MB/s eta 0:00:01\r",
      "\u001b[K    95% |██████████████████████████████▌ | 942kB 57.9MB/s eta 0:00:01\r",
      "\u001b[K    96% |██████████████████████████████▉ | 952kB 57.5MB/s eta 0:00:01\r",
      "\u001b[K    97% |███████████████████████████████▏| 962kB 65.8MB/s eta 0:00:01\r",
      "\u001b[K    98% |███████████████████████████████▌| 972kB 12.9MB/s eta 0:00:01\r",
      "\u001b[K    99% |███████████████████████████████▉| 983kB 12.8MB/s eta 0:00:01\r",
      "\u001b[K    100% |████████████████████████████████| 993kB 9.0MB/s \n",
      "\u001b[?25h  Building wheel for PyDrive (setup.py) ... \u001b[?25ldone\n",
      "\u001b[?25h"
     ]
    }
   ],
   "source": [
    "# Install the PyDrive wrapper & import libraries.\n",
    "# This only needs to be done once per notebook.\n",
    "!pip install -U -q PyDrive\n",
    "from pydrive.auth import GoogleAuth\n",
    "from pydrive.drive import GoogleDrive\n",
    "from google.colab import auth\n",
    "from oauth2client.client import GoogleCredentials\n",
    "\n",
    "# Authenticate and create the PyDrive client.\n",
    "# This only needs to be done once per notebook.\n",
    "auth.authenticate_user()\n",
    "gauth = GoogleAuth()\n",
    "gauth.credentials = GoogleCredentials.get_application_default()\n",
    "drive = GoogleDrive(gauth)\n"
   ]
  },
  {
   "cell_type": "code",
   "execution_count": 0,
   "metadata": {
    "colab": {},
    "colab_type": "code",
    "id": "oH2KmRobMYJn"
   },
   "outputs": [],
   "source": []
  },
  {
   "cell_type": "markdown",
   "metadata": {
    "colab_type": "text",
    "id": "m9na1fhXDRcu"
   },
   "source": [
    "## Load Training Data"
   ]
  },
  {
   "cell_type": "code",
   "execution_count": 0,
   "metadata": {
    "colab": {},
    "colab_type": "code",
    "id": "C0RDKK2v8Agq"
   },
   "outputs": [],
   "source": [
    "!mkdir data\n",
    "!mkdir testing"
   ]
  },
  {
   "cell_type": "code",
   "execution_count": 4,
   "metadata": {
    "colab": {
     "base_uri": "https://localhost:8080/",
     "height": 34
    },
    "colab_type": "code",
    "id": "Fl0hGE019jbi",
    "outputId": "66fb9c68-8410-4240-8ab2-bb980f9d407a"
   },
   "outputs": [
    {
     "name": "stdout",
     "output_type": "stream",
     "text": [
      "/content/data\n"
     ]
    }
   ],
   "source": [
    "cd data"
   ]
  },
  {
   "cell_type": "code",
   "execution_count": 0,
   "metadata": {
    "colab": {},
    "colab_type": "code",
    "id": "gWfYNYRYH53e"
   },
   "outputs": [],
   "source": [
    "folder_id='1hyFG7HStEvNnM3SbSL8yEAoG4N5PnyT3'\n",
    "file_list = drive.ListFile({'q': \"'%s' in parents and trashed=false\" % folder_id}).GetList()"
   ]
  },
  {
   "cell_type": "code",
   "execution_count": 0,
   "metadata": {
    "colab": {},
    "colab_type": "code",
    "id": "iNEc3IqXI5Uh"
   },
   "outputs": [],
   "source": [
    "for file in file_list:\n",
    "  downloaded = drive.CreateFile({'id': file['id']})\n",
    "  downloaded.GetContentFile(downloaded['title'])"
   ]
  },
  {
   "cell_type": "code",
   "execution_count": 7,
   "metadata": {
    "colab": {
     "base_uri": "https://localhost:8080/",
     "height": 119
    },
    "colab_type": "code",
    "id": "aMeF0BQP9Hzc",
    "outputId": "c75b02d6-7ac6-4c8c-e999-4f99ed4062fc"
   },
   "outputs": [
    {
     "name": "stdout",
     "output_type": "stream",
     "text": [
      "\tzip warning: name not matched: __MACOSX/*\n",
      "\n",
      "zip error: Nothing to do! (hot_dog.zip)\n",
      "\tzip warning: name not matched: _MACOSX/*\n",
      "\n",
      "zip error: Nothing to do! (not_hot_dog.zip)\n"
     ]
    }
   ],
   "source": [
    "#remove _MACOSX file if present in zipfile\n",
    "!zip -d 'hot_dog.zip' __MACOSX/\\*\n",
    "!zip -d 'not_hot_dog.zip' _MACOSX/\\*"
   ]
  },
  {
   "cell_type": "code",
   "execution_count": 0,
   "metadata": {
    "colab": {},
    "colab_type": "code",
    "id": "5q5Cp3b4-wXi"
   },
   "outputs": [],
   "source": [
    "!unzip hot_dog.zip\n",
    "!unzip not_hot_dog.zip"
   ]
  },
  {
   "cell_type": "code",
   "execution_count": 0,
   "metadata": {
    "colab": {},
    "colab_type": "code",
    "id": "3a1Zz3in_6oC"
   },
   "outputs": [],
   "source": [
    "!rm hot_dog.zip\n",
    "!rm not_hot_dog.zip"
   ]
  },
  {
   "cell_type": "code",
   "execution_count": 10,
   "metadata": {
    "colab": {
     "base_uri": "https://localhost:8080/",
     "height": 34
    },
    "colab_type": "code",
    "id": "5To8JKYZT9Dw",
    "outputId": "ec9a1d8d-f607-46d7-e6cb-33993a5757a3"
   },
   "outputs": [
    {
     "name": "stdout",
     "output_type": "stream",
     "text": [
      "/content/data/hot_dog\n"
     ]
    }
   ],
   "source": [
    "cd hot_dog"
   ]
  },
  {
   "cell_type": "code",
   "execution_count": 0,
   "metadata": {
    "colab": {},
    "colab_type": "code",
    "id": "K6s5KBMoWgXA"
   },
   "outputs": [],
   "source": [
    "#remove extra folder in hot_dog folder\n",
    "rmdir hot_dog"
   ]
  },
  {
   "cell_type": "code",
   "execution_count": 13,
   "metadata": {
    "colab": {
     "base_uri": "https://localhost:8080/",
     "height": 34
    },
    "colab_type": "code",
    "id": "Ycn4pgalLAHZ",
    "outputId": "ecf86005-f783-4ee1-c180-9bdf2e53563a"
   },
   "outputs": [
    {
     "name": "stdout",
     "output_type": "stream",
     "text": [
      "/content\n"
     ]
    }
   ],
   "source": [
    "#navigate to content\n",
    "cd .."
   ]
  },
  {
   "cell_type": "code",
   "execution_count": 14,
   "metadata": {
    "colab": {
     "base_uri": "https://localhost:8080/",
     "height": 34
    },
    "colab_type": "code",
    "id": "N5LJrrG0wYEP",
    "outputId": "8f521fcd-098c-4613-9930-b3c60985ccdc"
   },
   "outputs": [
    {
     "name": "stdout",
     "output_type": "stream",
     "text": [
      "/content/testing\n"
     ]
    }
   ],
   "source": [
    "#navigate to testing\n",
    "cd testing"
   ]
  },
  {
   "cell_type": "code",
   "execution_count": 0,
   "metadata": {
    "colab": {},
    "colab_type": "code",
    "id": "ClTj7rKNK9RK"
   },
   "outputs": [],
   "source": [
    "#load testing examples\n",
    "folder_id='1QePXVok8Y-Vr_jYyJq6Myzm5xpYjRlrg'\n",
    "file_list = drive.ListFile({'q': \"'%s' in parents and trashed=false\" % folder_id}).GetList()\n",
    "\n",
    "for file in file_list:\n",
    "  downloaded = drive.CreateFile({'id': file['id']})\n",
    "  downloaded.GetContentFile(downloaded['title'])"
   ]
  },
  {
   "cell_type": "code",
   "execution_count": 0,
   "metadata": {
    "colab": {},
    "colab_type": "code",
    "id": "ZMiRzLFZ73uQ"
   },
   "outputs": [],
   "source": [
    "directory = 'data/'"
   ]
  },
  {
   "cell_type": "code",
   "execution_count": 17,
   "metadata": {
    "colab": {
     "base_uri": "https://localhost:8080/",
     "height": 34
    },
    "colab_type": "code",
    "id": "kKZ69tEM73uZ",
    "outputId": "c0a7b469-4176-4fc1-d1eb-d35b9bb3d897"
   },
   "outputs": [
    {
     "name": "stdout",
     "output_type": "stream",
     "text": [
      "/content\n"
     ]
    }
   ],
   "source": [
    "#make sure you are in the content directory\n",
    "cd .."
   ]
  },
  {
   "cell_type": "code",
   "execution_count": 18,
   "metadata": {
    "colab": {
     "base_uri": "https://localhost:8080/",
     "height": 51
    },
    "colab_type": "code",
    "id": "ylvEGp9Y73uk",
    "outputId": "30dffa7f-a50d-4cd3-9fbc-3a432bd6566b"
   },
   "outputs": [
    {
     "name": "stdout",
     "output_type": "stream",
     "text": [
      "1307\n",
      "3115\n"
     ]
    }
   ],
   "source": [
    "print(len(os.listdir('data/hot_dog')))\n",
    "print(len(os.listdir('data/not_hot_dog')))"
   ]
  },
  {
   "cell_type": "markdown",
   "metadata": {
    "colab_type": "text",
    "id": "yqt9Rx1KDqGg"
   },
   "source": [
    "## Preprocess Images"
   ]
  },
  {
   "cell_type": "code",
   "execution_count": 19,
   "metadata": {
    "colab": {
     "base_uri": "https://localhost:8080/",
     "height": 34
    },
    "colab_type": "code",
    "id": "s8T5QO9573uv",
    "outputId": "9cba23ec-df05-4790-836c-6eaa8dcd2eda",
    "scrolled": true
   },
   "outputs": [
    {
     "name": "stdout",
     "output_type": "stream",
     "text": [
      "Found 4420 images belonging to 2 classes.\n"
     ]
    }
   ],
   "source": [
    "# get all the data in the directory split/test, and reshape them\n",
    "data_all = ImageDataGenerator(rescale=1./255).flow_from_directory( \n",
    "        directory, \n",
    "        target_size=(128, 128), \n",
    "        batch_size = 4419, \n",
    "        seed = 123) "
   ]
  },
  {
   "cell_type": "code",
   "execution_count": 0,
   "metadata": {
    "colab": {},
    "colab_type": "code",
    "id": "cKWqCS0K73u1"
   },
   "outputs": [],
   "source": [
    "#split images and labels\n",
    "images, labels = next(data_all)"
   ]
  },
  {
   "cell_type": "code",
   "execution_count": 21,
   "metadata": {
    "colab": {
     "base_uri": "https://localhost:8080/",
     "height": 268
    },
    "colab_type": "code",
    "id": "Fcb6x5uE73u5",
    "outputId": "981b1d12-ae03-4d1e-8a22-84fd0e89ce69"
   },
   "outputs": [
    {
     "data": {
      "image/png": "[encoded data removed]",
      "text/plain": [
       "<Figure size 432x288 with 1 Axes>"
      ]
     },
     "metadata": {
      "tags": []
     },
     "output_type": "display_data"
    }
   ],
   "source": [
    "%matplotlib inline\n",
    "import matplotlib.pyplot as plt\n",
    "plt.imshow(images[4])\n",
    "plt.show()"
   ]
  },
  {
   "cell_type": "code",
   "execution_count": 0,
   "metadata": {
    "colab": {},
    "colab_type": "code",
    "id": "RwLAf8_T73vA"
   },
   "outputs": [],
   "source": [
    "#explore each r,g,b matrix\n",
    "r_img = images[4][:,:,0]\n",
    "g_img = images[4][:,:,1]\n",
    "b_img = images[4][:,:,2]"
   ]
  },
  {
   "cell_type": "code",
   "execution_count": 0,
   "metadata": {
    "colab": {},
    "colab_type": "code",
    "id": "cpMVj_7r73vF"
   },
   "outputs": [],
   "source": []
  },
  {
   "cell_type": "code",
   "execution_count": 0,
   "metadata": {
    "colab": {},
    "colab_type": "code",
    "id": "5fqZXYZy73vK"
   },
   "outputs": [],
   "source": [
    "plt.imshow(b_img, plt.cm.binary)\n",
    "plt.show()"
   ]
  },
  {
   "cell_type": "code",
   "execution_count": 0,
   "metadata": {
    "colab": {},
    "colab_type": "code",
    "id": "8aVHgZX673vS",
    "outputId": "a5095c22-7809-441c-96a0-133a04096be2"
   },
   "outputs": [
    {
     "data": {
      "text/plain": [
       "4419"
      ]
     },
     "execution_count": 40,
     "metadata": {
      "tags": []
     },
     "output_type": "execute_result"
    }
   ],
   "source": [
    "len(labels)"
   ]
  },
  {
   "cell_type": "markdown",
   "metadata": {
    "colab_type": "text",
    "id": "cbLISkcL73vV"
   },
   "source": [
    "## 2. Densely connected network"
   ]
  },
  {
   "cell_type": "code",
   "execution_count": 0,
   "metadata": {
    "colab": {},
    "colab_type": "code",
    "id": "oBA6SZFKCYZt"
   },
   "outputs": [],
   "source": [
    "from numpy.random import seed\n",
    "seed(123)\n",
    "from tensorflow import set_random_seed\n",
    "set_random_seed(123)"
   ]
  },
  {
   "cell_type": "code",
   "execution_count": 0,
   "metadata": {
    "colab": {},
    "colab_type": "code",
    "id": "mLPtaOrr73vW"
   },
   "outputs": [],
   "source": [
    "#reshape into 1D arrays (only for densely connected network)\n",
    "X = images.reshape(images.shape[0], -1)\n",
    "y = np.reshape(labels[:,0], (4419,1))"
   ]
  },
  {
   "cell_type": "code",
   "execution_count": 0,
   "metadata": {
    "colab": {},
    "colab_type": "code",
    "id": "P_Acpo_K73vg"
   },
   "outputs": [],
   "source": [
    "#split model and test sets\n",
    "from sklearn.model_selection import train_test_split\n",
    "X_model, X_test, y_model, y_test = train_test_split(X, y, test_size=0.20, random_state=123)"
   ]
  },
  {
   "cell_type": "code",
   "execution_count": 0,
   "metadata": {
    "colab": {},
    "colab_type": "code",
    "id": "Pn-h4y7K73vj"
   },
   "outputs": [],
   "source": [
    "#split validation and training sets from model split\n",
    "from sklearn.model_selection import train_test_split\n",
    "X_train, X_val, y_train, y_val = train_test_split(X_model, y_model, test_size=0.20, random_state=123)"
   ]
  },
  {
   "cell_type": "markdown",
   "metadata": {
    "colab_type": "text",
    "id": "DuS_YYE_73vo"
   },
   "source": [
    "### First Densely Connected Network - Epochs = 60"
   ]
  },
  {
   "cell_type": "code",
   "execution_count": 0,
   "metadata": {
    "colab": {},
    "colab_type": "code",
    "id": "4U7-HNsb73vp"
   },
   "outputs": [],
   "source": [
    "\n",
    "dense = models.Sequential()\n",
    "dense.add(layers.Dense(128, activation='relu', input_shape=(49152,))) #2 hidden layers\n",
    "dense.add(layers.Dense(64, activation='relu'))\n",
    "dense.add(layers.Dense(1, activation='sigmoid'))\n",
    "\n",
    "dense.compile(optimizer='sgd',\n",
    "              loss='binary_crossentropy',\n",
    "              metrics=['accuracy'])\n",
    "\n",
    "dense_fit = dense.fit(X_train,\n",
    "                    y_train,\n",
    "                    epochs=60,\n",
    "                    batch_size=50,\n",
    "                    validation_data=(X_val, y_val))"
   ]
  },
  {
   "cell_type": "markdown",
   "metadata": {
    "colab_type": "text",
    "id": "HpsTpDmJ73vu"
   },
   "source": [
    "### Visualize Training/Validation Loss and Acccuracy Across Epochs"
   ]
  },
  {
   "cell_type": "code",
   "execution_count": 0,
   "metadata": {
    "colab": {},
    "colab_type": "code",
    "id": "1MZ7LjhJ73vu",
    "outputId": "8db264a8-a310-4ba5-efde-99d853f5fe0c",
    "scrolled": true
   },
   "outputs": [
    {
     "data": {
      "image/png": "[encoded data removed]",
      "text/plain": [
       "<Figure size 1080x288 with 2 Axes>"
      ]
     },
     "metadata": {
      "tags": []
     },
     "output_type": "display_data"
    }
   ],
   "source": [
    "hist_dense = dense_fit.history\n",
    "loss_values = hist_dense['loss']\n",
    "val_loss_values = hist_dense['val_loss']\n",
    "acc_values = hist_dense['acc'] \n",
    "val_acc_values = hist_dense['val_acc']\n",
    "\n",
    "epochs = range(1, len(loss_values) + 1)\n",
    "\n",
    "plt.figure(figsize=(15,4))\n",
    "plt.subplot(121)\n",
    "plt.plot(epochs, loss_values, 'g.', label='Training loss')\n",
    "plt.plot(epochs, val_loss_values, 'g', label='Validation loss')\n",
    "\n",
    "plt.title('Training and validation loss')\n",
    "plt.xlabel('Epochs')\n",
    "plt.ylabel('Loss')\n",
    "plt.legend()\n",
    "\n",
    "plt.subplot(122)\n",
    "plt.plot(epochs, acc_values, 'r.', label='Training acc')\n",
    "plt.plot(epochs, val_acc_values, 'r', label='Validation acc')\n",
    "plt.title('Training and validation accuracy')\n",
    "plt.xlabel('Epochs')\n",
    "plt.ylabel('Accuracy')\n",
    "plt.legend()\n",
    "plt.show()"
   ]
  },
  {
   "cell_type": "markdown",
   "metadata": {
    "colab_type": "text",
    "id": "hMHJh-Vy73vx"
   },
   "source": [
    "Shows overfitting after ~ 15 epochs"
   ]
  },
  {
   "cell_type": "code",
   "execution_count": 0,
   "metadata": {
    "colab": {},
    "colab_type": "code",
    "id": "S20wfymw73vy",
    "scrolled": true
   },
   "outputs": [],
   "source": []
  },
  {
   "cell_type": "markdown",
   "metadata": {
    "colab_type": "text",
    "id": "q8J_7JJO73v5"
   },
   "source": [
    "### Second Densely Connected Network - Epochs = 15"
   ]
  },
  {
   "cell_type": "code",
   "execution_count": 0,
   "metadata": {
    "colab": {},
    "colab_type": "code",
    "id": "GvBsK0EA64tA"
   },
   "outputs": [],
   "source": []
  },
  {
   "cell_type": "code",
   "execution_count": 0,
   "metadata": {
    "colab": {
     "base_uri": "https://localhost:8080/",
     "height": 734
    },
    "colab_type": "code",
    "id": "dgNwWIGj73v6",
    "outputId": "a2b8e0f8-0c42-4461-ce8f-e00081031a77"
   },
   "outputs": [
    {
     "name": "stdout",
     "output_type": "stream",
     "text": [
      "Train on 2828 samples, validate on 707 samples\n",
      "Epoch 1/20\n",
      "2828/2828 [==============================] - 1s 506us/step - loss: 0.6534 - acc: 0.7058 - val_loss: 0.6080 - val_acc: 0.7044\n",
      "Epoch 2/20\n",
      "2828/2828 [==============================] - 1s 323us/step - loss: 0.6019 - acc: 0.7139 - val_loss: 0.6107 - val_acc: 0.7044\n",
      "Epoch 3/20\n",
      "2828/2828 [==============================] - 1s 323us/step - loss: 0.5942 - acc: 0.7139 - val_loss: 0.5995 - val_acc: 0.7044\n",
      "Epoch 4/20\n",
      "2828/2828 [==============================] - 1s 331us/step - loss: 0.5921 - acc: 0.7143 - val_loss: 0.5966 - val_acc: 0.7044\n",
      "Epoch 5/20\n",
      "2828/2828 [==============================] - 1s 317us/step - loss: 0.5875 - acc: 0.7122 - val_loss: 0.6110 - val_acc: 0.7044\n",
      "Epoch 6/20\n",
      "2828/2828 [==============================] - 1s 326us/step - loss: 0.5857 - acc: 0.7132 - val_loss: 0.7032 - val_acc: 0.7044\n",
      "Epoch 7/20\n",
      "2828/2828 [==============================] - 1s 317us/step - loss: 0.5793 - acc: 0.7199 - val_loss: 0.5948 - val_acc: 0.7044\n",
      "Epoch 8/20\n",
      "2828/2828 [==============================] - 1s 330us/step - loss: 0.5729 - acc: 0.7217 - val_loss: 0.6425 - val_acc: 0.7044\n",
      "Epoch 9/20\n",
      "2828/2828 [==============================] - 1s 324us/step - loss: 0.5611 - acc: 0.7214 - val_loss: 0.5901 - val_acc: 0.7058\n",
      "Epoch 10/20\n",
      "2828/2828 [==============================] - 1s 320us/step - loss: 0.5591 - acc: 0.7189 - val_loss: 0.5896 - val_acc: 0.7100\n",
      "Epoch 11/20\n",
      "2828/2828 [==============================] - 1s 326us/step - loss: 0.5631 - acc: 0.7221 - val_loss: 0.5856 - val_acc: 0.7115\n",
      "Epoch 12/20\n",
      "2828/2828 [==============================] - 1s 321us/step - loss: 0.5571 - acc: 0.7238 - val_loss: 0.6087 - val_acc: 0.6818\n",
      "Epoch 13/20\n",
      "2828/2828 [==============================] - 1s 325us/step - loss: 0.5644 - acc: 0.7249 - val_loss: 0.5830 - val_acc: 0.7086\n",
      "Epoch 14/20\n",
      "2828/2828 [==============================] - 1s 325us/step - loss: 0.5429 - acc: 0.7313 - val_loss: 0.5991 - val_acc: 0.6987\n",
      "Epoch 15/20\n",
      "2828/2828 [==============================] - 1s 320us/step - loss: 0.5413 - acc: 0.7334 - val_loss: 0.5971 - val_acc: 0.6818\n",
      "Epoch 16/20\n",
      "2828/2828 [==============================] - 1s 325us/step - loss: 0.5420 - acc: 0.7284 - val_loss: 0.5925 - val_acc: 0.7086\n",
      "Epoch 17/20\n",
      "2828/2828 [==============================] - 1s 323us/step - loss: 0.5345 - acc: 0.7334 - val_loss: 0.5895 - val_acc: 0.6931\n",
      "Epoch 18/20\n",
      "2828/2828 [==============================] - 1s 326us/step - loss: 0.5337 - acc: 0.7355 - val_loss: 0.6156 - val_acc: 0.6803\n",
      "Epoch 19/20\n",
      "2828/2828 [==============================] - 1s 325us/step - loss: 0.5294 - acc: 0.7344 - val_loss: 0.6512 - val_acc: 0.7072\n",
      "Epoch 20/20\n",
      "2828/2828 [==============================] - 1s 314us/step - loss: 0.5251 - acc: 0.7429 - val_loss: 0.5930 - val_acc: 0.6931\n"
     ]
    }
   ],
   "source": [
    "dense = models.Sequential()\n",
    "dense.add(layers.Dense(128, activation='relu', input_shape=(49152,))) #2 hidden layers\n",
    "dense.add(layers.Dense(64, activation='relu'))\n",
    "dense.add(layers.Dense(1, activation='sigmoid'))\n",
    "\n",
    "dense.compile(optimizer='sgd',\n",
    "              loss='binary_crossentropy',\n",
    "              metrics=['accuracy'])\n",
    "\n",
    "dense_fit = dense.fit(X_train,\n",
    "                    y_train,\n",
    "                    epochs=20,\n",
    "                    batch_size=50,\n",
    "                    validation_data=(X_val, y_val))"
   ]
  },
  {
   "cell_type": "code",
   "execution_count": 0,
   "metadata": {
    "colab": {
     "base_uri": "https://localhost:8080/",
     "height": 294
    },
    "colab_type": "code",
    "id": "FmJFs4Dg73wD",
    "outputId": "ad18cafb-dfc9-46fc-f38e-fb15f7a6e753"
   },
   "outputs": [
    {
     "data": {
      "image/png": "[encoded data removed]",
      "text/plain": [
       "<Figure size 1080x288 with 2 Axes>"
      ]
     },
     "metadata": {
      "tags": []
     },
     "output_type": "display_data"
    }
   ],
   "source": [
    "hist_dense = dense_fit.history\n",
    "loss_values = hist_dense['loss']\n",
    "val_loss_values = hist_dense['val_loss']\n",
    "acc_values = hist_dense['acc'] \n",
    "val_acc_values = hist_dense['val_acc']\n",
    "\n",
    "epochs = range(1, len(loss_values) + 1)\n",
    "\n",
    "plt.figure(figsize=(15,4))\n",
    "plt.subplot(121)\n",
    "plt.plot(epochs, loss_values, 'g.', label='Training loss')\n",
    "plt.plot(epochs, val_loss_values, 'g', label='Validation loss')\n",
    "\n",
    "plt.title('Training and validation loss')\n",
    "plt.xlabel('Epochs')\n",
    "plt.ylabel('Loss')\n",
    "plt.legend()\n",
    "\n",
    "plt.subplot(122)\n",
    "plt.plot(epochs, acc_values, 'r.', label='Training acc')\n",
    "plt.plot(epochs, val_acc_values, 'r', label='Validation acc')\n",
    "plt.title('Training and validation accuracy')\n",
    "plt.xlabel('Epochs')\n",
    "plt.ylabel('Accuracy')\n",
    "plt.legend()\n",
    "plt.show()"
   ]
  },
  {
   "cell_type": "code",
   "execution_count": 0,
   "metadata": {
    "colab": {},
    "colab_type": "code",
    "id": "TqkGOhqV73wL",
    "outputId": "44f53363-46ab-416b-ee10-b48a2c007fa4",
    "scrolled": true
   },
   "outputs": [
    {
     "name": "stdout",
     "output_type": "stream",
     "text": [
      "2828/2828 [==============================] - 2s 609us/step\n"
     ]
    }
   ],
   "source": [
    "results_train = dense.evaluate(X_train, y_train)"
   ]
  },
  {
   "cell_type": "code",
   "execution_count": 0,
   "metadata": {
    "colab": {},
    "colab_type": "code",
    "id": "wq_JZn7_73wP",
    "outputId": "b0c9bdf9-c6bc-4960-fbee-d37080034d57",
    "scrolled": true
   },
   "outputs": [
    {
     "name": "stdout",
     "output_type": "stream",
     "text": [
      "884/884 [==============================] - 1s 1ms/step\n"
     ]
    }
   ],
   "source": [
    "results_test = dense.evaluate(X_test, y_test)"
   ]
  },
  {
   "cell_type": "code",
   "execution_count": 0,
   "metadata": {
    "colab": {},
    "colab_type": "code",
    "id": "xQCWDe-673wR",
    "outputId": "e5d09b1c-0bc9-478f-afd7-3ed7ee999841",
    "scrolled": true
   },
   "outputs": [
    {
     "data": {
      "text/plain": [
       "[0.6243381912502575, 0.6478076379909542]"
      ]
     },
     "execution_count": 58,
     "metadata": {
      "tags": []
     },
     "output_type": "execute_result"
    }
   ],
   "source": [
    "results_train"
   ]
  },
  {
   "cell_type": "code",
   "execution_count": 0,
   "metadata": {
    "colab": {},
    "colab_type": "code",
    "id": "B3E2Hp-M73wU",
    "outputId": "54757fa2-d6f7-4c09-8563-595bd5a57f58"
   },
   "outputs": [
    {
     "data": {
      "text/plain": [
       "[0.664972347911127, 0.5814479635312007]"
      ]
     },
     "execution_count": 59,
     "metadata": {
      "tags": []
     },
     "output_type": "execute_result"
    }
   ],
   "source": [
    "results_test"
   ]
  },
  {
   "cell_type": "markdown",
   "metadata": {
    "colab_type": "text",
    "id": "pHHySBbW73wZ"
   },
   "source": [
    "#### Traing Accuracy = 64.78%\n",
    "#### Testing Accuracy = 58.14 %"
   ]
  },
  {
   "cell_type": "code",
   "execution_count": 0,
   "metadata": {
    "colab": {
     "base_uri": "https://localhost:8080/",
     "height": 51
    },
    "colab_type": "code",
    "id": "vETfTS8A6roB",
    "outputId": "a0d58c7b-b26a-4903-e0ef-8f8d75b84806"
   },
   "outputs": [
    {
     "data": {
      "text/plain": [
       "array([[501,  95],\n",
       "       [196,  92]])"
      ]
     },
     "execution_count": 88,
     "metadata": {
      "tags": []
     },
     "output_type": "execute_result"
    }
   ],
   "source": [
    "predictions = dense.predict(X_test)\n",
    "predictions = np.around(np.array(predictions))\n",
    "confusion_matrix(y_test, predictions)"
   ]
  },
  {
   "cell_type": "markdown",
   "metadata": {
    "colab_type": "text",
    "id": "JvY50TmJ73wa"
   },
   "source": [
    "## 3. Convolutional neural network"
   ]
  },
  {
   "cell_type": "code",
   "execution_count": 0,
   "metadata": {
    "colab": {},
    "colab_type": "code",
    "id": "898G-tvC73wb"
   },
   "outputs": [],
   "source": [
    "from sklearn.model_selection import train_test_split\n",
    "X_model, X_test, y_model, y_test = train_test_split(images, y, test_size=0.20, random_state=123)"
   ]
  },
  {
   "cell_type": "code",
   "execution_count": 0,
   "metadata": {
    "colab": {},
    "colab_type": "code",
    "id": "ryysKVws73wd"
   },
   "outputs": [],
   "source": [
    "from sklearn.model_selection import train_test_split\n",
    "X_train, X_val, y_train, y_val = train_test_split(X_model, y_model, test_size=0.20, random_state=123)"
   ]
  },
  {
   "cell_type": "code",
   "execution_count": 0,
   "metadata": {
    "colab": {},
    "colab_type": "code",
    "id": "zw0LD8xe73wf"
   },
   "outputs": [],
   "source": [
    "cnn = models.Sequential()\n",
    "cnn.add(layers.Conv2D(64, (3, 3), activation='relu', input_shape=(224, 224,  3)))\n",
    "cnn.add(layers.MaxPooling2D((2, 2)))\n",
    "cnn.add(layers.Conv2D(32, (3, 3), activation='relu'))\n",
    "cnn.add(layers.MaxPooling2D((2, 2)))\n",
    "cnn.add(layers.Flatten())\n",
    "cnn.add(layers.Dense(32, activation='relu'))\n",
    "cnn.add(layers.Dense(1, activation='sigmoid'))\n",
    "\n",
    "cnn.compile(loss='binary_crossentropy',\n",
    "              optimizer=\"sgd\",\n",
    "              metrics=['acc'])"
   ]
  },
  {
   "cell_type": "code",
   "execution_count": 0,
   "metadata": {
    "colab": {},
    "colab_type": "code",
    "id": "hezyvSEF73wm",
    "outputId": "ae9ede19-e30c-472b-8ec7-2b2a252d68a9"
   },
   "outputs": [
    {
     "data": {
      "text/plain": [
       "1792"
      ]
     },
     "execution_count": 120,
     "metadata": {
      "tags": []
     },
     "output_type": "execute_result"
    }
   ],
   "source": [
    "# filter is 3*3*3, 64 or them and bias term for each filter\n",
    "3*3*3*64+64"
   ]
  },
  {
   "cell_type": "code",
   "execution_count": 0,
   "metadata": {
    "colab": {},
    "colab_type": "code",
    "id": "4MDmt3uF73wr",
    "outputId": "ca80df80-88b8-4c71-b9dd-2ac3e902acbe"
   },
   "outputs": [
    {
     "data": {
      "text/plain": [
       "18464"
      ]
     },
     "execution_count": 121,
     "metadata": {
      "tags": []
     },
     "output_type": "execute_result"
    }
   ],
   "source": [
    "# filter for second one\n",
    "32*3*3*64+32"
   ]
  },
  {
   "cell_type": "code",
   "execution_count": 0,
   "metadata": {
    "colab": {},
    "colab_type": "code",
    "id": "oFim3wbY73wv",
    "scrolled": true
   },
   "outputs": [],
   "source": [
    "cnn1 = cnn.fit(X_train,\n",
    "                    y_train,\n",
    "                    epochs=30,\n",
    "                    batch_size=50,\n",
    "                    validation_data=(X_val, y_val))"
   ]
  },
  {
   "cell_type": "code",
   "execution_count": 0,
   "metadata": {
    "colab": {},
    "colab_type": "code",
    "id": "fV2LHFpZ73wy"
   },
   "outputs": [],
   "source": [
    "hist_cnn = cnn1.history\n",
    "loss_values = hist_cnn['loss']\n",
    "val_loss_values = hist_cnn['val_loss']\n",
    "acc_values = hist_cnn['acc'] \n",
    "val_acc_values = hist_cnn['val_acc']\n",
    "\n",
    "\n",
    "epochs = range(1, len(loss_values) + 1)\n",
    "\n",
    "plt.figure(figsize=(15,4))\n",
    "plt.subplot(121)\n",
    "plt.plot(epochs, loss_values, 'g.', label='Training loss')\n",
    "plt.plot(epochs, val_loss_values, 'g', label='Validation loss')\n",
    "\n",
    "plt.title('Training and validation loss')\n",
    "plt.xlabel('Epochs')\n",
    "plt.ylabel('Loss')\n",
    "plt.legend()\n",
    "\n",
    "plt.subplot(122)\n",
    "plt.plot(epochs, acc_values, 'r.', label='Training acc')\n",
    "plt.plot(epochs, val_acc_values, 'r', label='Validation acc')\n",
    "plt.title('Training and validation accuracy')\n",
    "plt.xlabel('Epochs')\n",
    "plt.ylabel('Accuracy')\n",
    "plt.legend()\n",
    "plt.show()"
   ]
  },
  {
   "cell_type": "code",
   "execution_count": 0,
   "metadata": {
    "colab": {},
    "colab_type": "code",
    "id": "JAd1W7eg73w3",
    "outputId": "a007947b-9bf8-42e6-8d0a-1489ba7dff9a"
   },
   "outputs": [
    {
     "name": "stdout",
     "output_type": "stream",
     "text": [
      "2828/2828 [==============================] - 34s 12ms/step\n"
     ]
    }
   ],
   "source": [
    "results_train = model.evaluate(X_train, y_train)\n",
    "results_test = model.evaluate(X_test, y_test)\n",
    "print(results_train, results_test)"
   ]
  },
  {
   "cell_type": "code",
   "execution_count": 0,
   "metadata": {
    "colab": {
     "base_uri": "https://localhost:8080/",
     "height": 462
    },
    "colab_type": "code",
    "id": "1G-2EkT-73xE",
    "outputId": "9cf9e30b-576c-4f9e-c79a-6717c65033ef",
    "scrolled": true
   },
   "outputs": [
    {
     "name": "stdout",
     "output_type": "stream",
     "text": [
      "Train on 2828 samples, validate on 708 samples\n",
      "Epoch 1/12\n",
      "2828/2828 [==============================] - 11s 4ms/step - loss: 0.5848 - acc: 0.7111 - val_loss: 0.6070 - val_acc: 0.6893\n",
      "Epoch 2/12\n",
      "2828/2828 [==============================] - 11s 4ms/step - loss: 0.5704 - acc: 0.7122 - val_loss: 0.5832 - val_acc: 0.6977\n",
      "Epoch 3/12\n",
      "2828/2828 [==============================] - 11s 4ms/step - loss: 0.5585 - acc: 0.7178 - val_loss: 0.5795 - val_acc: 0.6907\n",
      "Epoch 4/12\n",
      "2828/2828 [==============================] - 11s 4ms/step - loss: 0.5480 - acc: 0.7185 - val_loss: 0.5823 - val_acc: 0.6921\n",
      "Epoch 5/12\n",
      "2828/2828 [==============================] - 11s 4ms/step - loss: 0.5379 - acc: 0.7263 - val_loss: 0.6208 - val_acc: 0.6469\n",
      "Epoch 6/12\n",
      "2828/2828 [==============================] - 11s 4ms/step - loss: 0.5304 - acc: 0.7316 - val_loss: 0.5631 - val_acc: 0.7119\n",
      "Epoch 7/12\n",
      "2828/2828 [==============================] - 11s 4ms/step - loss: 0.5203 - acc: 0.7397 - val_loss: 0.5572 - val_acc: 0.7189\n",
      "Epoch 8/12\n",
      "2828/2828 [==============================] - 11s 4ms/step - loss: 0.5079 - acc: 0.7482 - val_loss: 0.5930 - val_acc: 0.6992\n",
      "Epoch 9/12\n",
      "2828/2828 [==============================] - 11s 4ms/step - loss: 0.4919 - acc: 0.7514 - val_loss: 0.5637 - val_acc: 0.7076\n",
      "Epoch 10/12\n",
      "2828/2828 [==============================] - 11s 4ms/step - loss: 0.4996 - acc: 0.7567 - val_loss: 0.6065 - val_acc: 0.6427\n",
      "Epoch 11/12\n",
      "2828/2828 [==============================] - 11s 4ms/step - loss: 0.4737 - acc: 0.7779 - val_loss: 0.5731 - val_acc: 0.6949\n",
      "Epoch 12/12\n",
      "2828/2828 [==============================] - 11s 4ms/step - loss: 0.4654 - acc: 0.7793 - val_loss: 0.5562 - val_acc: 0.7302\n"
     ]
    }
   ],
   "source": [
    "cnn_12 = cnn.fit(X_train,\n",
    "                    y_train,\n",
    "                    epochs=12,\n",
    "                    batch_size=50,\n",
    "                    validation_data=(X_val, y_val))"
   ]
  },
  {
   "cell_type": "code",
   "execution_count": 0,
   "metadata": {
    "colab": {},
    "colab_type": "code",
    "id": "2kKMtjyM73xJ",
    "outputId": "dfacbc1c-6fd7-4135-9423-d0bde8b712be",
    "scrolled": true
   },
   "outputs": [
    {
     "data": {
      "image/png": "[encoded data removed]",
      "text/plain": [
       "<Figure size 1080x288 with 2 Axes>"
      ]
     },
     "metadata": {
      "tags": []
     },
     "output_type": "display_data"
    }
   ],
   "source": [
    "hist_cnn_12 = cnn_12.history\n",
    "loss_values = hist_cnn_12['loss']\n",
    "val_loss_values = hist_cnn_12['val_loss']\n",
    "acc_values = hist_cnn_12['acc'] \n",
    "val_acc_values = hist_cnn_12['val_acc']\n",
    "\n",
    "\n",
    "epochs = range(1, len(loss_values) + 1)\n",
    "\n",
    "plt.figure(figsize=(15,4))\n",
    "plt.subplot(121)\n",
    "plt.plot(epochs, loss_values, 'g.', label='Training loss')\n",
    "plt.plot(epochs, val_loss_values, 'g', label='Validation loss')\n",
    "\n",
    "plt.title('Training and validation loss')\n",
    "plt.xlabel('Epochs')\n",
    "plt.ylabel('Loss')\n",
    "plt.legend()\n",
    "\n",
    "plt.subplot(122)\n",
    "plt.plot(epochs, acc_values, 'r.', label='Training acc')\n",
    "plt.plot(epochs, val_acc_values, 'r', label='Validation acc')\n",
    "plt.title('Training and validation accuracy')\n",
    "plt.xlabel('Epochs')\n",
    "plt.ylabel('Accuracy')\n",
    "plt.legend()\n",
    "plt.show()"
   ]
  },
  {
   "cell_type": "code",
   "execution_count": 0,
   "metadata": {
    "colab": {
     "base_uri": "https://localhost:8080/",
     "height": 68
    },
    "colab_type": "code",
    "id": "OsBPqbjJ73xM",
    "outputId": "98e740bf-7d84-4d31-8e62-558b746236de"
   },
   "outputs": [
    {
     "name": "stdout",
     "output_type": "stream",
     "text": [
      "2828/2828 [==============================] - 5s 2ms/step\n",
      "884/884 [==============================] - 2s 2ms/step\n",
      "Training Accuracy:  0.8012729844413012 Testing Accuracy:  0.7228506792724402\n"
     ]
    }
   ],
   "source": [
    "results_train = cnn.evaluate(X_train, y_train)\n",
    "results_test = cnn.evaluate(X_test, y_test)\n",
    "print('Training Accuracy: ', results_train[1], 'Testing Accuracy: ', results_test[1])"
   ]
  },
  {
   "cell_type": "code",
   "execution_count": 0,
   "metadata": {
    "colab": {},
    "colab_type": "code",
    "id": "izppKA3Y73xQ"
   },
   "outputs": [],
   "source": [
    "cnn_12_predictions = cnn.predict(X_test)\n",
    "cnn_12_predictions = np.around(np.array(cnn_12_predictions))"
   ]
  },
  {
   "cell_type": "code",
   "execution_count": 0,
   "metadata": {
    "colab": {
     "base_uri": "https://localhost:8080/",
     "height": 68
    },
    "colab_type": "code",
    "id": "IBLz9XGC73xS",
    "outputId": "788f967a-3822-4c64-c74c-3601921c173f"
   },
   "outputs": [
    {
     "name": "stdout",
     "output_type": "stream",
     "text": [
      "[[583  32]\n",
      " [213  56]]\n",
      "F1 Score:  0.3137254901960784\n"
     ]
    }
   ],
   "source": [
    "print(confusion_matrix(y_test, cnn_12_predictions)) \n",
    "\n",
    "print('F1 Score: ', f1_score(y_test, cnn_12_predictions))"
   ]
  },
  {
   "cell_type": "markdown",
   "metadata": {
    "colab_type": "text",
    "id": "AoKw8sdw73xV"
   },
   "source": [
    "## 4. Drop-out regularization"
   ]
  },
  {
   "cell_type": "code",
   "execution_count": 0,
   "metadata": {
    "colab": {
     "base_uri": "https://localhost:8080/",
     "height": 232
    },
    "colab_type": "code",
    "id": "OIrsnv7z73xV",
    "outputId": "d144f2fb-bb3f-413c-8189-26403d5afe4a"
   },
   "outputs": [
    {
     "ename": "NameError",
     "evalue": "ignored",
     "output_type": "error",
     "traceback": [
      "\u001b[0;31m---------------------------------------------------------------------------\u001b[0m",
      "\u001b[0;31mNameError\u001b[0m                                 Traceback (most recent call last)",
      "\u001b[0;32m<ipython-input-75-6e703090a241>\u001b[0m in \u001b[0;36m<module>\u001b[0;34m()\u001b[0m\n\u001b[1;32m      4\u001b[0m \u001b[0mset_random_seed\u001b[0m\u001b[0;34m(\u001b[0m\u001b[0;36m123\u001b[0m\u001b[0;34m)\u001b[0m\u001b[0;34m\u001b[0m\u001b[0;34m\u001b[0m\u001b[0m\n\u001b[1;32m      5\u001b[0m \u001b[0;34m\u001b[0m\u001b[0m\n\u001b[0;32m----> 6\u001b[0;31m \u001b[0mdropout\u001b[0m \u001b[0;34m=\u001b[0m \u001b[0mmodels\u001b[0m\u001b[0;34m.\u001b[0m\u001b[0mSequential\u001b[0m\u001b[0;34m(\u001b[0m\u001b[0;34m)\u001b[0m\u001b[0;34m\u001b[0m\u001b[0;34m\u001b[0m\u001b[0m\n\u001b[0m\u001b[1;32m      7\u001b[0m \u001b[0mdropout\u001b[0m\u001b[0;34m.\u001b[0m\u001b[0madd\u001b[0m\u001b[0;34m(\u001b[0m\u001b[0mlayers\u001b[0m\u001b[0;34m.\u001b[0m\u001b[0mConv2D\u001b[0m\u001b[0;34m(\u001b[0m\u001b[0;36m128\u001b[0m\u001b[0;34m,\u001b[0m \u001b[0;34m(\u001b[0m\u001b[0;36m3\u001b[0m\u001b[0;34m,\u001b[0m \u001b[0;36m3\u001b[0m\u001b[0;34m)\u001b[0m\u001b[0;34m,\u001b[0m \u001b[0mactivation\u001b[0m\u001b[0;34m=\u001b[0m\u001b[0;34m'relu'\u001b[0m\u001b[0;34m,\u001b[0m \u001b[0minput_shape\u001b[0m\u001b[0;34m=\u001b[0m\u001b[0;34m(\u001b[0m\u001b[0;36m128\u001b[0m\u001b[0;34m,\u001b[0m \u001b[0;36m128\u001b[0m\u001b[0;34m,\u001b[0m \u001b[0;36m3\u001b[0m\u001b[0;34m)\u001b[0m\u001b[0;34m)\u001b[0m\u001b[0;34m)\u001b[0m\u001b[0;34m\u001b[0m\u001b[0;34m\u001b[0m\u001b[0m\n\u001b[1;32m      8\u001b[0m \u001b[0mdropout\u001b[0m\u001b[0;34m.\u001b[0m\u001b[0madd\u001b[0m\u001b[0;34m(\u001b[0m\u001b[0mlayers\u001b[0m\u001b[0;34m.\u001b[0m\u001b[0mMaxPooling2D\u001b[0m\u001b[0;34m(\u001b[0m\u001b[0;34m(\u001b[0m\u001b[0;36m2\u001b[0m\u001b[0;34m,\u001b[0m \u001b[0;36m2\u001b[0m\u001b[0;34m)\u001b[0m\u001b[0;34m)\u001b[0m\u001b[0;34m)\u001b[0m\u001b[0;34m\u001b[0m\u001b[0;34m\u001b[0m\u001b[0m\n",
      "\u001b[0;31mNameError\u001b[0m: name 'models' is not defined"
     ]
    }
   ],
   "source": [
    "dropout = models.Sequential()\n",
    "dropout.add(layers.Conv2D(128, (3, 3), activation='relu', input_shape=(128, 128, 3)))\n",
    "dropout.add(layers.MaxPooling2D((2, 2)))\n",
    "dropout.add(layers.Conv2D(64, (3, 3), activation='relu'))\n",
    "dropout.add(layers.MaxPooling2D((2, 2)))\n",
    "\n",
    "dropout.add(layers.Flatten())\n",
    "dropout.add(layers.Dropout(0.5))\n",
    "dropout.add(layers.Dense(32, activation='relu'))\n",
    "dropout.add(layers.Dense(1,  activation='sigmoid'))\n",
    "\n",
    "dropout.compile(loss='binary_crossentropy',\n",
    "              optimizer=\"sgd\",\n",
    "              metrics=['acc'])\n",
    "drop_model = dropout.fit(X_train,\n",
    "                    y_train,\n",
    "                    epochs=15,\n",
    "                    batch_size=50,\n",
    "                    validation_data=(X_val, y_val))"
   ]
  },
  {
   "cell_type": "code",
   "execution_count": 0,
   "metadata": {
    "colab": {
     "base_uri": "https://localhost:8080/",
     "height": 232
    },
    "colab_type": "code",
    "id": "4xPPIMaU73xh",
    "outputId": "050dab8f-62bf-41ed-8296-1df17bc1895d"
   },
   "outputs": [
    {
     "ename": "NameError",
     "evalue": "ignored",
     "output_type": "error",
     "traceback": [
      "\u001b[0;31m---------------------------------------------------------------------------\u001b[0m",
      "\u001b[0;31mNameError\u001b[0m                                 Traceback (most recent call last)",
      "\u001b[0;32m<ipython-input-74-97cdd7ba548a>\u001b[0m in \u001b[0;36m<module>\u001b[0;34m()\u001b[0m\n\u001b[0;32m----> 1\u001b[0;31m \u001b[0mhist_dropout\u001b[0m \u001b[0;34m=\u001b[0m \u001b[0mdropout\u001b[0m\u001b[0;34m.\u001b[0m\u001b[0mhistory\u001b[0m\u001b[0;34m\u001b[0m\u001b[0;34m\u001b[0m\u001b[0m\n\u001b[0m\u001b[1;32m      2\u001b[0m \u001b[0mloss_values\u001b[0m \u001b[0;34m=\u001b[0m \u001b[0mhist_dropout\u001b[0m\u001b[0;34m[\u001b[0m\u001b[0;34m'loss'\u001b[0m\u001b[0;34m]\u001b[0m\u001b[0;34m\u001b[0m\u001b[0;34m\u001b[0m\u001b[0m\n\u001b[1;32m      3\u001b[0m \u001b[0mval_loss_values\u001b[0m \u001b[0;34m=\u001b[0m \u001b[0mhist_dropout\u001b[0m\u001b[0;34m[\u001b[0m\u001b[0;34m'val_loss'\u001b[0m\u001b[0;34m]\u001b[0m\u001b[0;34m\u001b[0m\u001b[0;34m\u001b[0m\u001b[0m\n\u001b[1;32m      4\u001b[0m \u001b[0macc_values\u001b[0m \u001b[0;34m=\u001b[0m \u001b[0mhist_dropout\u001b[0m\u001b[0;34m[\u001b[0m\u001b[0;34m'acc'\u001b[0m\u001b[0;34m]\u001b[0m\u001b[0;34m\u001b[0m\u001b[0;34m\u001b[0m\u001b[0m\n\u001b[1;32m      5\u001b[0m \u001b[0mval_acc_values\u001b[0m \u001b[0;34m=\u001b[0m \u001b[0mhist_droupout\u001b[0m\u001b[0;34m[\u001b[0m\u001b[0;34m'val_acc'\u001b[0m\u001b[0;34m]\u001b[0m\u001b[0;34m\u001b[0m\u001b[0;34m\u001b[0m\u001b[0m\n",
      "\u001b[0;31mNameError\u001b[0m: name 'dropout' is not defined"
     ]
    }
   ],
   "source": [
    "hist_dropout = dropout.history\n",
    "loss_values = hist_dropout['loss']\n",
    "val_loss_values = hist_dropout['val_loss']\n",
    "acc_values = hist_dropout['acc'] \n",
    "val_acc_values = hist_droupout['val_acc']\n",
    "\n",
    "\n",
    "epochs = range(1, len(loss_values) + 1)\n",
    "\n",
    "plt.figure(figsize=(15,4))\n",
    "plt.subplot(121)\n",
    "plt.plot(epochs, loss_values, 'g.', label='Training loss')\n",
    "plt.plot(epochs, val_loss_values, 'g', label='Validation loss')\n",
    "\n",
    "plt.title('Training and validation loss')\n",
    "plt.xlabel('Epochs')\n",
    "plt.ylabel('Loss')\n",
    "plt.legend()\n",
    "\n",
    "plt.subplot(122)\n",
    "plt.plot(epochs, acc_values, 'r.', label='Training acc')\n",
    "plt.plot(epochs, val_acc_values, 'r', label='Validation acc')\n",
    "plt.title('Training and validation accuracy')\n",
    "plt.xlabel('Epochs')\n",
    "plt.ylabel('Accuracy')\n",
    "plt.legend()\n",
    "plt.show()"
   ]
  },
  {
   "cell_type": "code",
   "execution_count": 0,
   "metadata": {
    "colab": {
     "base_uri": "https://localhost:8080/",
     "height": 181
    },
    "colab_type": "code",
    "id": "HPNbo7Yw73xr",
    "outputId": "9729043f-2852-4d83-9dc4-6bcb778edfb1"
   },
   "outputs": [
    {
     "ename": "NameError",
     "evalue": "ignored",
     "output_type": "error",
     "traceback": [
      "\u001b[0;31m---------------------------------------------------------------------------\u001b[0m",
      "\u001b[0;31mNameError\u001b[0m                                 Traceback (most recent call last)",
      "\u001b[0;32m<ipython-input-73-f3c2b2657506>\u001b[0m in \u001b[0;36m<module>\u001b[0;34m()\u001b[0m\n\u001b[0;32m----> 1\u001b[0;31m \u001b[0mresults_train\u001b[0m \u001b[0;34m=\u001b[0m \u001b[0mdropout\u001b[0m\u001b[0;34m.\u001b[0m\u001b[0mevaluate\u001b[0m\u001b[0;34m(\u001b[0m\u001b[0mX_train\u001b[0m\u001b[0;34m,\u001b[0m \u001b[0my_train\u001b[0m\u001b[0;34m)\u001b[0m\u001b[0;34m\u001b[0m\u001b[0;34m\u001b[0m\u001b[0m\n\u001b[0m\u001b[1;32m      2\u001b[0m \u001b[0mresults_test\u001b[0m \u001b[0;34m=\u001b[0m \u001b[0mdropout\u001b[0m\u001b[0;34m.\u001b[0m\u001b[0mevaluate\u001b[0m\u001b[0;34m(\u001b[0m\u001b[0mX_test\u001b[0m\u001b[0;34m,\u001b[0m \u001b[0my_test\u001b[0m\u001b[0;34m)\u001b[0m\u001b[0;34m\u001b[0m\u001b[0;34m\u001b[0m\u001b[0m\n",
      "\u001b[0;31mNameError\u001b[0m: name 'dropout' is not defined"
     ]
    }
   ],
   "source": [
    "results_train = dropout.evaluate(X_train, y_train)\n",
    "results_test = dropout.evaluate(X_test, y_test)"
   ]
  },
  {
   "cell_type": "code",
   "execution_count": 0,
   "metadata": {
    "colab": {
     "base_uri": "https://localhost:8080/",
     "height": 164
    },
    "colab_type": "code",
    "id": "nmDkAIfF73x1",
    "outputId": "4bf56640-8d8d-4c76-9818-93b5329c99a2"
   },
   "outputs": [
    {
     "ename": "NameError",
     "evalue": "ignored",
     "output_type": "error",
     "traceback": [
      "\u001b[0;31m---------------------------------------------------------------------------\u001b[0m",
      "\u001b[0;31mNameError\u001b[0m                                 Traceback (most recent call last)",
      "\u001b[0;32m<ipython-input-72-804adab685b1>\u001b[0m in \u001b[0;36m<module>\u001b[0;34m()\u001b[0m\n\u001b[0;32m----> 1\u001b[0;31m \u001b[0mprint\u001b[0m\u001b[0;34m(\u001b[0m\u001b[0mresults_train\u001b[0m\u001b[0;34m,\u001b[0m \u001b[0mresults_test\u001b[0m\u001b[0;34m)\u001b[0m\u001b[0;34m\u001b[0m\u001b[0;34m\u001b[0m\u001b[0m\n\u001b[0m",
      "\u001b[0;31mNameError\u001b[0m: name 'results_train' is not defined"
     ]
    }
   ],
   "source": [
    "print(results_train, results_test)"
   ]
  },
  {
   "cell_type": "code",
   "execution_count": 0,
   "metadata": {
    "colab": {},
    "colab_type": "code",
    "id": "7njE30zS73x5"
   },
   "outputs": [],
   "source": []
  },
  {
   "cell_type": "code",
   "execution_count": 0,
   "metadata": {
    "colab": {},
    "colab_type": "code",
    "id": "_iIuuOrBqmIB"
   },
   "outputs": [],
   "source": [
    "predictions = dropout.predict(X_test)\n",
    "predictions = np.around(np.array(predictions))"
   ]
  },
  {
   "cell_type": "code",
   "execution_count": 0,
   "metadata": {
    "colab": {},
    "colab_type": "code",
    "id": "BBEPcf2973x_"
   },
   "outputs": [],
   "source": [
    "from sklearn.metrics import confusion_matrix, f1_score"
   ]
  },
  {
   "cell_type": "code",
   "execution_count": 0,
   "metadata": {
    "colab": {
     "base_uri": "https://localhost:8080/",
     "height": 51
    },
    "colab_type": "code",
    "id": "KUYceHR7qVSV",
    "outputId": "6bf958e4-be88-467d-d753-db449ed22e3e"
   },
   "outputs": [
    {
     "data": {
      "text/plain": [
       "array([[570,  26],\n",
       "       [248,  40]])"
      ]
     },
     "execution_count": 76,
     "metadata": {
      "tags": []
     },
     "output_type": "execute_result"
    }
   ],
   "source": [
    "confusion_matrix(y_test, predictions)"
   ]
  },
  {
   "cell_type": "code",
   "execution_count": 0,
   "metadata": {
    "colab": {
     "base_uri": "https://localhost:8080/",
     "height": 34
    },
    "colab_type": "code",
    "id": "7OfZDxnPqdae",
    "outputId": "e18fd88e-4b76-4660-8e06-4e544d4af36a"
   },
   "outputs": [
    {
     "data": {
      "text/plain": [
       "0.22598870056497175"
      ]
     },
     "execution_count": 79,
     "metadata": {
      "tags": []
     },
     "output_type": "execute_result"
    }
   ],
   "source": [
    "f1_score(y_test, predictions)"
   ]
  },
  {
   "cell_type": "code",
   "execution_count": 0,
   "metadata": {
    "colab": {},
    "colab_type": "code",
    "id": "5LU5lkzGqhwJ"
   },
   "outputs": [],
   "source": []
  },
  {
   "cell_type": "code",
   "execution_count": 0,
   "metadata": {
    "colab": {},
    "colab_type": "code",
    "id": "YAbBGroub095"
   },
   "outputs": [],
   "source": []
  },
  {
   "cell_type": "code",
   "execution_count": 0,
   "metadata": {
    "colab": {
     "base_uri": "https://localhost:8080/",
     "height": 164
    },
    "colab_type": "code",
    "id": "C_2-6cgtwW2B",
    "outputId": "8e0eb712-c38b-4140-81b9-a920eb945c62"
   },
   "outputs": [
    {
     "ename": "NameError",
     "evalue": "ignored",
     "output_type": "error",
     "traceback": [
      "\u001b[0;31m---------------------------------------------------------------------------\u001b[0m",
      "\u001b[0;31mNameError\u001b[0m                                 Traceback (most recent call last)",
      "\u001b[0;32m<ipython-input-71-f09c2f6f3c26>\u001b[0m in \u001b[0;36m<module>\u001b[0;34m()\u001b[0m\n\u001b[0;32m----> 1\u001b[0;31m \u001b[0mpredictoneimage_cnn\u001b[0m\u001b[0;34m(\u001b[0m\u001b[0mcnn\u001b[0m\u001b[0;34m,\u001b[0m \u001b[0;34m'jaime.jpg'\u001b[0m\u001b[0;34m)\u001b[0m\u001b[0;34m\u001b[0m\u001b[0;34m\u001b[0m\u001b[0m\n\u001b[0m",
      "\u001b[0;31mNameError\u001b[0m: name 'cnn' is not defined"
     ]
    }
   ],
   "source": [
    "predictoneimage_cnn(cnn, 'jaime.jpg')"
   ]
  },
  {
   "cell_type": "markdown",
   "metadata": {
    "colab_type": "text",
    "id": "f7AuiBumEEyW"
   },
   "source": [
    "##  5. Transfer Learning"
   ]
  },
  {
   "cell_type": "markdown",
   "metadata": {
    "colab_type": "text",
    "id": "QC6p6KqhP8-S"
   },
   "source": [
    "### MobileNet"
   ]
  },
  {
   "cell_type": "code",
   "execution_count": 0,
   "metadata": {
    "colab": {},
    "colab_type": "code",
    "id": "UhXoCzhEEGyK"
   },
   "outputs": [],
   "source": [
    "from keras.layers import Dense,GlobalAveragePooling2D\n",
    "from keras.applications import MobileNet\n",
    "from keras.preprocessing import image\n",
    "from keras.applications.mobilenet import preprocess_input\n",
    "from keras.preprocessing.image import ImageDataGenerator\n",
    "from keras.models import Model\n",
    "from keras.optimizers import Adam\n",
    "from keras.models import load_model"
   ]
  },
  {
   "cell_type": "code",
   "execution_count": 0,
   "metadata": {
    "colab": {},
    "colab_type": "code",
    "id": "scQySnJFEqQ_"
   },
   "outputs": [],
   "source": [
    "base_model=MobileNet(weights='imagenet',include_top=False) #imports the mobilenet model and discards the last 1000 neuron layer.\n",
    "\n",
    "x=base_model.output\n",
    "x=GlobalAveragePooling2D()(x)\n",
    "x=Dense(1024,activation='relu')(x) #we add dense layers so that the model can learn more complex functions and classify for better results.\n",
    "x=Dense(1024,activation='relu')(x) #dense layer 2\n",
    "x=Dense(512,activation='relu')(x) #dense layer 3\n",
    "preds=Dense(1,activation='sigmoid')(x) #final layer with softmax activation"
   ]
  },
  {
   "cell_type": "code",
   "execution_count": 0,
   "metadata": {
    "colab": {},
    "colab_type": "code",
    "id": "H37RPDLgEyvT"
   },
   "outputs": [],
   "source": [
    "#specify the inputs and outputs\n",
    "#now a model has been created based on our architecture\n",
    "mobile_net=Model(inputs=base_model.input,outputs=preds)\n"
   ]
  },
  {
   "cell_type": "code",
   "execution_count": 0,
   "metadata": {
    "colab": {
     "base_uri": "https://localhost:8080/",
     "height": 102
    },
    "colab_type": "code",
    "id": "TxGJE_3jE7D-",
    "outputId": "51f18a18-584c-43e6-cbad-2a5d4ba87eca"
   },
   "outputs": [
    {
     "name": "stdout",
     "output_type": "stream",
     "text": [
      "0 global_average_pooling2d_1\n",
      "1 dense_1\n",
      "2 dense_2\n",
      "3 dense_3\n",
      "4 dense_4\n"
     ]
    }
   ],
   "source": [
    "for i,layer in enumerate(mobile_net.layers[87:]):\n",
    "  print(i,layer.name)"
   ]
  },
  {
   "cell_type": "code",
   "execution_count": 0,
   "metadata": {
    "colab": {},
    "colab_type": "code",
    "id": "-wim7W80E_KT"
   },
   "outputs": [],
   "source": [
    "for layer in mobile_net.layers:\n",
    "    layer.trainable=False\n",
    "# or if we want to set the first 20 layers of the network to be non-trainable\n",
    "for layer in mobile_net.layers[:87]:\n",
    "    layer.trainable=False\n",
    "for layer in mobile_net.layers[87:]:\n",
    "    layer.trainable=True"
   ]
  },
  {
   "cell_type": "code",
   "execution_count": 0,
   "metadata": {
    "colab": {
     "base_uri": "https://localhost:8080/",
     "height": 34
    },
    "colab_type": "code",
    "id": "0VxRC-PkUuy6",
    "outputId": "b28e9c80-a431-4892-c01c-3238fbeb58b8"
   },
   "outputs": [
    {
     "name": "stdout",
     "output_type": "stream",
     "text": [
      "adc.json  \u001b[0m\u001b[01;34mdata\u001b[0m/  \u001b[01;34msample_data\u001b[0m/  \u001b[01;34mtesting\u001b[0m/\n"
     ]
    }
   ],
   "source": [
    "ls"
   ]
  },
  {
   "cell_type": "code",
   "execution_count": 0,
   "metadata": {
    "colab": {
     "base_uri": "https://localhost:8080/",
     "height": 34
    },
    "colab_type": "code",
    "id": "MNh_yZa5FoEr",
    "outputId": "4c0e94c7-5f27-4729-b4d1-6a853b9bbf9d"
   },
   "outputs": [
    {
     "name": "stdout",
     "output_type": "stream",
     "text": [
      "Found 4420 images belonging to 2 classes.\n"
     ]
    }
   ],
   "source": [
    "datagen=ImageDataGenerator(preprocessing_function=preprocess_input) \n",
    "\n",
    "transfer_all_data=datagen.flow_from_directory('data/',\n",
    "                                                 target_size=(224,224),\n",
    "                                                 color_mode='rgb',\n",
    "                                                 batch_size=4420,\n",
    "                                                 shuffle=True,\n",
    "                                    )\n",
    "\n"
   ]
  },
  {
   "cell_type": "code",
   "execution_count": 0,
   "metadata": {
    "colab": {},
    "colab_type": "code",
    "id": "qGJC96-mTmlu"
   },
   "outputs": [],
   "source": []
  },
  {
   "cell_type": "code",
   "execution_count": 0,
   "metadata": {
    "colab": {},
    "colab_type": "code",
    "id": "hTtH5lunTrH8"
   },
   "outputs": [],
   "source": []
  },
  {
   "cell_type": "code",
   "execution_count": 0,
   "metadata": {
    "colab": {},
    "colab_type": "code",
    "id": "Rn30JS4hOuLX"
   },
   "outputs": [],
   "source": [
    "transfer_images, transfer_labels = next(transfer_all_data)"
   ]
  },
  {
   "cell_type": "code",
   "execution_count": 0,
   "metadata": {
    "colab": {},
    "colab_type": "code",
    "id": "PZxD4RUPTWs7"
   },
   "outputs": [],
   "source": []
  },
  {
   "cell_type": "code",
   "execution_count": 0,
   "metadata": {
    "colab": {},
    "colab_type": "code",
    "id": "WFcyycbhPVm9"
   },
   "outputs": [],
   "source": [
    "#reshape labels\n",
    "transfer_y = np.reshape(transfer_labels[:,0], (4420,1))"
   ]
  },
  {
   "cell_type": "code",
   "execution_count": 0,
   "metadata": {
    "colab": {},
    "colab_type": "code",
    "id": "dcpAo5eqRHy2"
   },
   "outputs": [],
   "source": [
    "from sklearn.model_selection import train_test_split\n",
    "X_model, X_test, y_model, y_test = train_test_split(transfer_images, transfer_y, test_size=0.20, random_state=123)"
   ]
  },
  {
   "cell_type": "code",
   "execution_count": 0,
   "metadata": {
    "colab": {},
    "colab_type": "code",
    "id": "2CWBcM4pRGvo"
   },
   "outputs": [],
   "source": [
    "from sklearn.model_selection import train_test_split\n",
    "X_train, X_val, y_train, y_val = train_test_split(X_model, y_model, test_size=0.20, random_state=123)"
   ]
  },
  {
   "cell_type": "code",
   "execution_count": 0,
   "metadata": {
    "colab": {
     "base_uri": "https://localhost:8080/",
     "height": 411
    },
    "colab_type": "code",
    "id": "bPOlZN4fGD5B",
    "outputId": "d04b1c24-0b45-45ad-e6c6-47fc47732c41"
   },
   "outputs": [
    {
     "name": "stdout",
     "output_type": "stream",
     "text": [
      "Train on 2828 samples, validate on 708 samples\n",
      "Epoch 1/10\n",
      "2828/2828 [==============================] - 11s 4ms/step - loss: 0.4773 - acc: 0.7910 - val_loss: 0.3562 - val_acc: 0.8404\n",
      "Epoch 2/10\n",
      "2828/2828 [==============================] - 9s 3ms/step - loss: 0.2242 - acc: 0.9162 - val_loss: 0.4283 - val_acc: 0.8347\n",
      "Epoch 3/10\n",
      "2828/2828 [==============================] - 9s 3ms/step - loss: 0.1915 - acc: 0.9197 - val_loss: 0.5125 - val_acc: 0.8234\n",
      "Epoch 4/10\n",
      "2828/2828 [==============================] - 9s 3ms/step - loss: 0.1644 - acc: 0.9335 - val_loss: 0.6890 - val_acc: 0.7542\n",
      "Epoch 5/10\n",
      "2828/2828 [==============================] - 9s 3ms/step - loss: 0.1222 - acc: 0.9562 - val_loss: 0.6041 - val_acc: 0.8404\n",
      "Epoch 6/10\n",
      "2828/2828 [==============================] - 9s 3ms/step - loss: 0.1216 - acc: 0.9491 - val_loss: 0.6235 - val_acc: 0.8107\n",
      "Epoch 7/10\n",
      "2828/2828 [==============================] - 9s 3ms/step - loss: 0.1381 - acc: 0.9385 - val_loss: 0.3128 - val_acc: 0.8969\n",
      "Epoch 8/10\n",
      "2828/2828 [==============================] - 9s 3ms/step - loss: 0.0993 - acc: 0.9558 - val_loss: 0.8801 - val_acc: 0.7839\n",
      "Epoch 9/10\n",
      "2828/2828 [==============================] - 9s 3ms/step - loss: 0.0861 - acc: 0.9664 - val_loss: 0.5227 - val_acc: 0.8630\n",
      "Epoch 10/10\n",
      "2828/2828 [==============================] - 9s 3ms/step - loss: 0.0584 - acc: 0.9806 - val_loss: 1.1764 - val_acc: 0.7669\n"
     ]
    },
    {
     "data": {
      "text/plain": [
       "<keras.callbacks.History at 0x7f365c41d5f8>"
      ]
     },
     "execution_count": 123,
     "metadata": {
      "tags": []
     },
     "output_type": "execute_result"
    }
   ],
   "source": [
    "mobile_net.compile(optimizer='Adam',loss='binary_crossentropy',metrics=['accuracy'])\n",
    "\n",
    "# step_size_train=train_generator.n//train_generator.batch_size\n",
    "mobile_net.fit(X_train,\n",
    "          y_train,\n",
    "          epochs=10,\n",
    "          batch_size=50,\n",
    "          validation_data=(X_val, y_val))"
   ]
  },
  {
   "cell_type": "code",
   "execution_count": 0,
   "metadata": {
    "colab": {
     "base_uri": "https://localhost:8080/",
     "height": 51
    },
    "colab_type": "code",
    "id": "utBtOemUGKLU",
    "outputId": "e7b8f9bd-fd6f-4845-fc2d-92df4b20972e"
   },
   "outputs": [
    {
     "name": "stdout",
     "output_type": "stream",
     "text": [
      "884/884 [==============================] - 3s 3ms/step\n"
     ]
    },
    {
     "data": {
      "text/plain": [
       "[1.1084992313816537, 0.772624434119436]"
      ]
     },
     "execution_count": 124,
     "metadata": {
      "tags": []
     },
     "output_type": "execute_result"
    }
   ],
   "source": [
    "mobile_net.evaluate(X_test, y_test)"
   ]
  },
  {
   "cell_type": "code",
   "execution_count": 0,
   "metadata": {
    "colab": {},
    "colab_type": "code",
    "id": "S_PlQBXNNSYD"
   },
   "outputs": [],
   "source": [
    "predictions_transfer = mobile_net.predict(X_test)\n",
    "predictions_transfer = np.around(predictions_transfer)"
   ]
  },
  {
   "cell_type": "code",
   "execution_count": 0,
   "metadata": {
    "colab": {
     "base_uri": "https://localhost:8080/",
     "height": 452
    },
    "colab_type": "code",
    "id": "9oxb9KxdUfRm",
    "outputId": "a4b70bc0-b6da-46b4-e001-427c0ac56fe4"
   },
   "outputs": [
    {
     "name": "stdout",
     "output_type": "stream",
     "text": [
      "Confusion matrix, without normalization\n",
      "[[398 217]\n",
      " [  9 260]]\n"
     ]
    },
    {
     "data": {
      "image/png": "[encoded data removed]",
      "text/plain": [
       "<Figure size 576x396 with 2 Axes>"
      ]
     },
     "metadata": {
      "tags": []
     },
     "output_type": "display_data"
    }
   ],
   "source": [
    "plt.figure()\n",
    "plot_confusion_matrix(confusion_matrix(y_test, predictions_transfer), classes=['hot dog', 'not hot dog'], normalize=False,\n",
    "                      title='Normalized confusion matrix')"
   ]
  },
  {
   "cell_type": "code",
   "execution_count": 0,
   "metadata": {
    "colab": {
     "base_uri": "https://localhost:8080/",
     "height": 34
    },
    "colab_type": "code",
    "id": "FIt83yrbE-8w",
    "outputId": "42424c21-4804-4c1d-9847-7b5b36c030e6"
   },
   "outputs": [
    {
     "data": {
      "text/plain": [
       "0.6970509383378016"
      ]
     },
     "execution_count": 126,
     "metadata": {
      "tags": []
     },
     "output_type": "execute_result"
    }
   ],
   "source": [
    "f1_score(y_test, predictions_transfer)"
   ]
  },
  {
   "cell_type": "markdown",
   "metadata": {
    "colab_type": "text",
    "id": "faebp_jJQCcQ"
   },
   "source": [
    "### InceptionNet"
   ]
  },
  {
   "cell_type": "code",
   "execution_count": 0,
   "metadata": {
    "colab": {},
    "colab_type": "code",
    "id": "khtt-CRtQK6A"
   },
   "outputs": [],
   "source": [
    "from keras.applications import inception_v3"
   ]
  },
  {
   "cell_type": "code",
   "execution_count": 0,
   "metadata": {
    "colab": {},
    "colab_type": "code",
    "id": "HQbTTZCc5XJr"
   },
   "outputs": [],
   "source": []
  },
  {
   "cell_type": "code",
   "execution_count": 25,
   "metadata": {
    "colab": {
     "base_uri": "https://localhost:8080/",
     "height": 122
    },
    "colab_type": "code",
    "id": "LjzQ50-RQacL",
    "outputId": "81e9f12c-def4-4d84-90e1-f89b3997f273"
   },
   "outputs": [
    {
     "name": "stdout",
     "output_type": "stream",
     "text": [
      "WARNING:tensorflow:From /usr/local/lib/python3.6/dist-packages/tensorflow/python/framework/op_def_library.py:263: colocate_with (from tensorflow.python.framework.ops) is deprecated and will be removed in a future version.\n",
      "Instructions for updating:\n",
      "Colocations handled automatically by placer.\n",
      "Downloading data from https://github.com/fchollet/deep-learning-models/releases/download/v0.5/inception_v3_weights_tf_dim_ordering_tf_kernels_notop.h5\n",
      "87916544/87910968 [==============================] - 7s 0us/step\n"
     ]
    }
   ],
   "source": [
    "imagenet=inception_v3.InceptionV3(weights='imagenet',include_top=False)\n",
    "imagenet_new=imagenet.output\n",
    "imagenet_new=GlobalAveragePooling2D()(imagenet_new)\n",
    "imagenet_new=Dense(1024,activation='relu')(imagenet_new) #we add dense layers so that the model can learn more complex functions and classify for better results.\n",
    "imagenet_new=Dense(1024,activation='relu')(imagenet_new) #dense layer 2\n",
    "imagenet_new=Dense(512,activation='relu')(imagenet_new) #dense layer 3\n",
    "preds=Dense(1,activation='sigmoid')(imagenet_new) #final layer with sigmoid activation"
   ]
  },
  {
   "cell_type": "code",
   "execution_count": 0,
   "metadata": {
    "colab": {},
    "colab_type": "code",
    "id": "bazXmkY5RUVr"
   },
   "outputs": [],
   "source": [
    "imagenet_model=Model(inputs=imagenet.input,outputs=preds)"
   ]
  },
  {
   "cell_type": "code",
   "execution_count": 0,
   "metadata": {
    "colab": {
     "base_uri": "https://localhost:8080/",
     "height": 102
    },
    "colab_type": "code",
    "id": "t1aV8X2mRidH",
    "outputId": "59cb3345-66a9-4e6b-ac07-ba5ee42fda5a"
   },
   "outputs": [
    {
     "name": "stdout",
     "output_type": "stream",
     "text": [
      "0 global_average_pooling2d_1\n",
      "1 dense_1\n",
      "2 dense_2\n",
      "3 dense_3\n",
      "4 dense_4\n"
     ]
    }
   ],
   "source": [
    "for i,layer in enumerate(imagenet_model.layers[311:]):\n",
    "  print(i,layer.name)"
   ]
  },
  {
   "cell_type": "code",
   "execution_count": 0,
   "metadata": {
    "colab": {},
    "colab_type": "code",
    "id": "XpEeFpw7XM8_"
   },
   "outputs": [],
   "source": [
    "# or if we want to set the first 311 layers of the network to be non-trainable\n",
    "for layer in imagenet_model.layers[:311]:\n",
    "    layer.trainable=False\n",
    "for layer in imagenet_model.layers[311:]:\n",
    "    layer.trainable=True"
   ]
  },
  {
   "cell_type": "code",
   "execution_count": 0,
   "metadata": {
    "colab": {},
    "colab_type": "code",
    "id": "hgjZt_DD3cgU"
   },
   "outputs": [],
   "source": [
    "y = np.reshape(labels[:,0], (4419,1))"
   ]
  },
  {
   "cell_type": "code",
   "execution_count": 0,
   "metadata": {
    "colab": {},
    "colab_type": "code",
    "id": "tETPjybx2prh"
   },
   "outputs": [],
   "source": [
    "#create model and test set\n",
    "from sklearn.model_selection import train_test_split\n",
    "X_model, X_test, y_model, y_test = train_test_split(images, y, test_size=0.20, random_state=123)"
   ]
  },
  {
   "cell_type": "code",
   "execution_count": 0,
   "metadata": {
    "colab": {},
    "colab_type": "code",
    "id": "2GpMM999YzpU"
   },
   "outputs": [],
   "source": [
    "#create train and validation set\n",
    "from sklearn.model_selection import train_test_split\n",
    "X_train, X_val, y_train, y_val = train_test_split(X_model, y_model, test_size=0.20, random_state=123)"
   ]
  },
  {
   "cell_type": "code",
   "execution_count": 37,
   "metadata": {
    "colab": {
     "base_uri": "https://localhost:8080/",
     "height": 462
    },
    "colab_type": "code",
    "id": "bhFDItn3XhRK",
    "outputId": "61ae5b10-5ab4-4874-88e6-66bb5a8f8a1b"
   },
   "outputs": [
    {
     "name": "stdout",
     "output_type": "stream",
     "text": [
      "WARNING:tensorflow:From /usr/local/lib/python3.6/dist-packages/tensorflow/python/ops/math_ops.py:3066: to_int32 (from tensorflow.python.ops.math_ops) is deprecated and will be removed in a future version.\n",
      "Instructions for updating:\n",
      "Use tf.cast instead.\n",
      "Train on 2828 samples, validate on 707 samples\n",
      "Epoch 1/10\n",
      "2828/2828 [==============================] - 15s 5ms/step - loss: 0.6117 - acc: 0.7157 - val_loss: 1.5024 - val_acc: 0.3649\n",
      "Epoch 2/10\n",
      "2828/2828 [==============================] - 7s 3ms/step - loss: 0.5048 - acc: 0.7638 - val_loss: 0.8144 - val_acc: 0.6591\n",
      "Epoch 3/10\n",
      "2828/2828 [==============================] - 7s 3ms/step - loss: 0.4766 - acc: 0.7797 - val_loss: 0.6398 - val_acc: 0.7553\n",
      "Epoch 4/10\n",
      "2828/2828 [==============================] - 7s 3ms/step - loss: 0.4834 - acc: 0.7790 - val_loss: 1.3418 - val_acc: 0.6181\n",
      "Epoch 5/10\n",
      "2828/2828 [==============================] - 7s 3ms/step - loss: 0.4329 - acc: 0.8080 - val_loss: 1.7916 - val_acc: 0.5926\n",
      "Epoch 6/10\n",
      "2828/2828 [==============================] - 7s 3ms/step - loss: 0.4432 - acc: 0.7988 - val_loss: 2.6153 - val_acc: 0.6379\n",
      "Epoch 7/10\n",
      "2828/2828 [==============================] - 7s 3ms/step - loss: 0.4219 - acc: 0.8037 - val_loss: 2.3340 - val_acc: 0.5615\n",
      "Epoch 8/10\n",
      "2828/2828 [==============================] - 7s 3ms/step - loss: 0.4197 - acc: 0.8045 - val_loss: 2.5037 - val_acc: 0.5884\n",
      "Epoch 9/10\n",
      "2828/2828 [==============================] - 7s 3ms/step - loss: 0.3987 - acc: 0.8214 - val_loss: 1.0468 - val_acc: 0.7129\n",
      "Epoch 10/10\n",
      "2828/2828 [==============================] - 7s 3ms/step - loss: 0.3839 - acc: 0.8296 - val_loss: 1.0305 - val_acc: 0.6945\n"
     ]
    },
    {
     "data": {
      "text/plain": [
       "<keras.callbacks.History at 0x7f0d251fb710>"
      ]
     },
     "execution_count": 37,
     "metadata": {
      "tags": []
     },
     "output_type": "execute_result"
    }
   ],
   "source": [
    "imagenet_model.compile(optimizer='Adam',loss='binary_crossentropy',metrics=['accuracy'])\n",
    "\n",
    "# step_size_train=train_generator.n//train_generator.batch_size\n",
    "imagenet_model.fit(X_train,\n",
    "          y_train,\n",
    "          epochs=10,\n",
    "          batch_size=50,\n",
    "          validation_data=(X_val, y_val))"
   ]
  },
  {
   "cell_type": "code",
   "execution_count": 38,
   "metadata": {
    "colab": {
     "base_uri": "https://localhost:8080/",
     "height": 51
    },
    "colab_type": "code",
    "id": "6cZa8LwmYRWJ",
    "outputId": "96b14068-4809-4667-8b46-03b7e19b09ba"
   },
   "outputs": [
    {
     "name": "stdout",
     "output_type": "stream",
     "text": [
      "884/884 [==============================] - 3s 4ms/step\n"
     ]
    },
    {
     "data": {
      "text/plain": [
       "[0.9650154928276442, 0.7149321272362411]"
      ]
     },
     "execution_count": 38,
     "metadata": {
      "tags": []
     },
     "output_type": "execute_result"
    }
   ],
   "source": [
    "#get loss and accuracy metrics\n",
    "imagenet_model.evaluate(X_test, y_test)"
   ]
  },
  {
   "cell_type": "code",
   "execution_count": 0,
   "metadata": {
    "colab": {},
    "colab_type": "code",
    "id": "XNywaXV8ZAFt"
   },
   "outputs": [],
   "source": [
    "predictions_imagenet = imagenet_model.predict(X_test)\n",
    "predictions_imagenet = np.around(predictions_imagenet)"
   ]
  },
  {
   "cell_type": "code",
   "execution_count": 42,
   "metadata": {
    "colab": {
     "base_uri": "https://localhost:8080/",
     "height": 348
    },
    "colab_type": "code",
    "id": "66ZssBELZRzX",
    "outputId": "6236eac1-ea70-4119-9e24-ebb6205a1d5d"
   },
   "outputs": [
    {
     "name": "stdout",
     "output_type": "stream",
     "text": [
      "Confusion matrix, without normalization\n",
      "[[377 219]\n",
      " [ 33 255]]\n"
     ]
    },
    {
     "data": {
      "image/png": "[encoded data removed]",
      "text/plain": [
       "<Figure size 432x288 with 2 Axes>"
      ]
     },
     "metadata": {
      "tags": []
     },
     "output_type": "display_data"
    }
   ],
   "source": [
    "plt.figure()\n",
    "plot_confusion_matrix(confusion_matrix(y_test, predictions_imagenet), classes=['hot dog', 'not hot dog'], normalize=False,\n",
    "                      title='Confusion matrix - Inception Net')"
   ]
  },
  {
   "cell_type": "code",
   "execution_count": 44,
   "metadata": {
    "colab": {
     "base_uri": "https://localhost:8080/",
     "height": 34
    },
    "colab_type": "code",
    "id": "qrd7gLsoZaar",
    "outputId": "f01d1979-f156-424a-d7bf-828c8214a171"
   },
   "outputs": [
    {
     "data": {
      "text/plain": [
       "0.6692913385826771"
      ]
     },
     "execution_count": 44,
     "metadata": {
      "tags": []
     },
     "output_type": "execute_result"
    }
   ],
   "source": [
    "f1_score(y_test, predictions_imagenet)"
   ]
  },
  {
   "cell_type": "code",
   "execution_count": 0,
   "metadata": {
    "colab": {},
    "colab_type": "code",
    "id": "AcH3vKvloU2o"
   },
   "outputs": [],
   "source": [
    "imagenet_model.save('inception_net_model')"
   ]
  },
  {
   "cell_type": "code",
   "execution_count": 0,
   "metadata": {
    "colab": {
     "base_uri": "https://localhost:8080/",
     "height": 34
    },
    "colab_type": "code",
    "id": "J8gEz_S4YvCF",
    "outputId": "770cdaa5-b3e1-4b50-e8d3-c0308a23bb9d"
   },
   "outputs": [
    {
     "name": "stdout",
     "output_type": "stream",
     "text": [
      "/content\n"
     ]
    }
   ],
   "source": [
    "cd .."
   ]
  },
  {
   "cell_type": "code",
   "execution_count": 0,
   "metadata": {
    "colab": {},
    "colab_type": "code",
    "id": "zkfIwkg67hfs"
   },
   "outputs": [],
   "source": [
    "imagenet_model = load_model('imagenet_model')"
   ]
  },
  {
   "cell_type": "code",
   "execution_count": 0,
   "metadata": {
    "colab": {
     "base_uri": "https://localhost:8080/",
     "height": 367
    },
    "colab_type": "code",
    "id": "CbhMvzw87sW7",
    "outputId": "4b540bf3-d29a-4760-e7a9-1f1a2b0f9e48"
   },
   "outputs": [
    {
     "data": {
      "text/plain": [
       "array([[0.27577972]], dtype=float32)"
      ]
     },
     "execution_count": 26,
     "metadata": {
      "tags": []
     },
     "output_type": "execute_result"
    },
    {
     "data": {
      "image/png": "[encoded data removed]",
      "text/plain": [
       "<Figure size 576x396 with 1 Axes>"
      ]
     },
     "metadata": {
      "tags": []
     },
     "output_type": "display_data"
    }
   ],
   "source": [
    "predictoneimage_cnn(imagenet_model, 'subssandwich.jpg')"
   ]
  },
  {
   "cell_type": "markdown",
   "metadata": {
    "colab_type": "text",
    "id": "-B1cwNVGoWdW"
   },
   "source": [
    "### VGG16"
   ]
  },
  {
   "cell_type": "code",
   "execution_count": 0,
   "metadata": {
    "colab": {},
    "colab_type": "code",
    "id": "Qyn_bNvWoa6J"
   },
   "outputs": [],
   "source": [
    "from keras.applications import VGG16"
   ]
  },
  {
   "cell_type": "code",
   "execution_count": 0,
   "metadata": {
    "colab": {
     "base_uri": "https://localhost:8080/",
     "height": 71
    },
    "colab_type": "code",
    "id": "wlhewhJCp-MO",
    "outputId": "4883fdfc-170c-464c-f3bf-e727b7e3ed73"
   },
   "outputs": [
    {
     "name": "stdout",
     "output_type": "stream",
     "text": [
      "Downloading data from https://github.com/fchollet/deep-learning-models/releases/download/v0.1/vgg16_weights_tf_dim_ordering_tf_kernels_notop.h5\n",
      "58892288/58889256 [==============================] - 3s 0us/step\n"
     ]
    }
   ],
   "source": [
    "vgg16=VGG16(weights='imagenet',include_top=False)\n",
    "vgg16_new=vgg16.output\n",
    "vgg16_new=GlobalAveragePooling2D()(vgg16_new)\n",
    "vgg16_new=Dense(1024,activation='relu')(vgg16_new) #we add dense layers so that the model can learn more complex functions and classify for better results.\n",
    "vgg16_new=Dense(1024,activation='relu')(vgg16_new) #dense layer 2\n",
    "vgg16_new=Dense(512,activation='relu')(vgg16_new) #dense layer 3\n",
    "preds=Dense(1,activation='sigmoid')(vgg16_new) #final layer with softmax activation"
   ]
  },
  {
   "cell_type": "code",
   "execution_count": 0,
   "metadata": {
    "colab": {},
    "colab_type": "code",
    "id": "jPsd4Go6p-MV"
   },
   "outputs": [],
   "source": [
    "vgg16_model=Model(inputs=vgg16.input,outputs=preds)"
   ]
  },
  {
   "cell_type": "code",
   "execution_count": 0,
   "metadata": {
    "colab": {
     "base_uri": "https://localhost:8080/",
     "height": 102
    },
    "colab_type": "code",
    "id": "w3u_tg53p-MX",
    "outputId": "9ed6eb99-1251-459d-e61c-ab0f6eceb24b"
   },
   "outputs": [
    {
     "name": "stdout",
     "output_type": "stream",
     "text": [
      "0 global_average_pooling2d_1\n",
      "1 dense_1\n",
      "2 dense_2\n",
      "3 dense_3\n",
      "4 dense_4\n"
     ]
    }
   ],
   "source": [
    "for i,layer in enumerate(vgg16_model.layers[19:]):\n",
    "  print(i,layer.name)"
   ]
  },
  {
   "cell_type": "code",
   "execution_count": 0,
   "metadata": {
    "colab": {},
    "colab_type": "code",
    "id": "Icjae9QUp-Me"
   },
   "outputs": [],
   "source": [
    "# or if we want to set the first 19 layers of the network to be non-trainable\n",
    "for layer in vgg16_model.layers[:19]:\n",
    "    layer.trainable=False\n",
    "for layer in vgg16_model.layers[19:]:\n",
    "    layer.trainable=True"
   ]
  },
  {
   "cell_type": "markdown",
   "metadata": {
    "colab_type": "text",
    "id": "3baOxulCp-Mf"
   },
   "source": []
  },
  {
   "cell_type": "code",
   "execution_count": 0,
   "metadata": {
    "colab": {
     "base_uri": "https://localhost:8080/",
     "height": 411
    },
    "colab_type": "code",
    "id": "go2u1RjGp-Mg",
    "outputId": "b2958ff6-3377-421a-8e37-ae2e37676ea9"
   },
   "outputs": [
    {
     "name": "stdout",
     "output_type": "stream",
     "text": [
      "Train on 2828 samples, validate on 708 samples\n",
      "Epoch 1/10\n",
      "2828/2828 [==============================] - 45s 16ms/step - loss: 0.5263 - acc: 0.7359 - val_loss: 0.3818 - val_acc: 0.8475\n",
      "Epoch 2/10\n",
      "2828/2828 [==============================] - 35s 12ms/step - loss: 0.3719 - acc: 0.8458 - val_loss: 0.4024 - val_acc: 0.8093\n",
      "Epoch 3/10\n",
      "2828/2828 [==============================] - 35s 12ms/step - loss: 0.3529 - acc: 0.8472 - val_loss: 0.3518 - val_acc: 0.8475\n",
      "Epoch 4/10\n",
      "2828/2828 [==============================] - 35s 12ms/step - loss: 0.3379 - acc: 0.8522 - val_loss: 0.3217 - val_acc: 0.8715\n",
      "Epoch 5/10\n",
      "2828/2828 [==============================] - 35s 12ms/step - loss: 0.3163 - acc: 0.8663 - val_loss: 0.3334 - val_acc: 0.8630\n",
      "Epoch 6/10\n",
      "2828/2828 [==============================] - 35s 12ms/step - loss: 0.2818 - acc: 0.8886 - val_loss: 0.3106 - val_acc: 0.8729\n",
      "Epoch 7/10\n",
      "2828/2828 [==============================] - 35s 12ms/step - loss: 0.2710 - acc: 0.8921 - val_loss: 0.2971 - val_acc: 0.8672\n",
      "Epoch 8/10\n",
      "2828/2828 [==============================] - 35s 12ms/step - loss: 0.2615 - acc: 0.8946 - val_loss: 0.3771 - val_acc: 0.8460\n",
      "Epoch 9/10\n",
      "2828/2828 [==============================] - 35s 12ms/step - loss: 0.2346 - acc: 0.9021 - val_loss: 0.3107 - val_acc: 0.8799\n",
      "Epoch 10/10\n",
      "2828/2828 [==============================] - 35s 12ms/step - loss: 0.2319 - acc: 0.9066 - val_loss: 0.4170 - val_acc: 0.8545\n"
     ]
    },
    {
     "data": {
      "text/plain": [
       "<keras.callbacks.History at 0x7f2b9568f080>"
      ]
     },
     "execution_count": 40,
     "metadata": {
      "tags": []
     },
     "output_type": "execute_result"
    }
   ],
   "source": [
    "vgg16_model.compile(optimizer='Adam',loss='binary_crossentropy',metrics=['accuracy'])\n",
    "\n",
    "vgg16_model.fit(X_train,\n",
    "          y_train,\n",
    "          epochs=10,\n",
    "          batch_size=50,\n",
    "          validation_data=(X_val, y_val))"
   ]
  },
  {
   "cell_type": "code",
   "execution_count": 0,
   "metadata": {
    "colab": {
     "base_uri": "https://localhost:8080/",
     "height": 51
    },
    "colab_type": "code",
    "id": "0dMD9NbWp-Ml",
    "outputId": "51175373-01e6-4da8-987a-75a2e57dd06b"
   },
   "outputs": [
    {
     "name": "stdout",
     "output_type": "stream",
     "text": [
      "884/884 [==============================] - 13s 14ms/step\n"
     ]
    },
    {
     "data": {
      "text/plain": [
       "[0.4120638627070108, 0.859728506517626]"
      ]
     },
     "execution_count": 41,
     "metadata": {
      "tags": []
     },
     "output_type": "execute_result"
    }
   ],
   "source": [
    "vgg16_model.evaluate(X_test, y_test)"
   ]
  },
  {
   "cell_type": "code",
   "execution_count": 0,
   "metadata": {
    "colab": {},
    "colab_type": "code",
    "id": "SGASY4MXp-Mu"
   },
   "outputs": [],
   "source": [
    "predictions_vgg16 = vgg16_model.predict(X_test)\n",
    "predictions_vgg16 = np.around(predictions_vgg16 )"
   ]
  },
  {
   "cell_type": "code",
   "execution_count": 0,
   "metadata": {
    "colab": {
     "base_uri": "https://localhost:8080/",
     "height": 452
    },
    "colab_type": "code",
    "id": "Phb_L_nap-Mz",
    "outputId": "15560c22-769e-4378-f37c-2fd282f55e6c"
   },
   "outputs": [
    {
     "name": "stdout",
     "output_type": "stream",
     "text": [
      "Confusion matrix, without normalization\n",
      "[[625  15]\n",
      " [109 135]]\n"
     ]
    },
    {
     "data": {
      "image/png": "[encoded data removed]",
      "text/plain": [
       "<Figure size 576x396 with 2 Axes>"
      ]
     },
     "metadata": {
      "tags": []
     },
     "output_type": "display_data"
    }
   ],
   "source": [
    "plt.figure()\n",
    "plot_confusion_matrix(confusion_matrix(y_test, predictions_vgg16), classes=['hot dog', 'not hot dog'], normalize=False,\n",
    "                      title='Confusion matrix - VGG16')"
   ]
  },
  {
   "cell_type": "code",
   "execution_count": 0,
   "metadata": {
    "colab": {
     "base_uri": "https://localhost:8080/",
     "height": 34
    },
    "colab_type": "code",
    "id": "jzlRjYXJp-M5",
    "outputId": "23997be9-929f-4b4d-f36f-832cb14a763d"
   },
   "outputs": [
    {
     "data": {
      "text/plain": [
       "0.6852791878172588"
      ]
     },
     "execution_count": 48,
     "metadata": {
      "tags": []
     },
     "output_type": "execute_result"
    }
   ],
   "source": [
    "f1_score(y_test, predictions_vgg16)"
   ]
  },
  {
   "cell_type": "markdown",
   "metadata": {
    "colab_type": "text",
    "id": "nK__ugdCDEFP"
   },
   "source": [
    "## Predict A Single Image"
   ]
  },
  {
   "cell_type": "code",
   "execution_count": 0,
   "metadata": {
    "colab": {},
    "colab_type": "code",
    "id": "r51gcF0sUh5r"
   },
   "outputs": [],
   "source": [
    "def predictoneimage_cnn(model, path):\n",
    "    img = load_img(path, target_size=(128, 128))\n",
    "    plt.imshow(img)\n",
    "    img = img_to_array(img)\n",
    "    img = img/255\n",
    "    img = np.expand_dims(img, axis=0)\n",
    "    predict = model.predict(img)\n",
    "    return predict"
   ]
  },
  {
   "cell_type": "code",
   "execution_count": 0,
   "metadata": {
    "colab": {},
    "colab_type": "code",
    "id": "QzDsbFm9AeYy"
   },
   "outputs": [],
   "source": [
    "def predictoneimage_dense(path):\n",
    "    img = load_img(path, target_size=(128, 128))\n",
    "    img = img_to_array(img)\n",
    "    img = img/255\n",
    "#     img = np.expand_dims(img, axis=0)\n",
    "    predict = dense.predict(img)\n",
    "    return predict"
   ]
  },
  {
   "cell_type": "code",
   "execution_count": 0,
   "metadata": {
    "colab": {},
    "colab_type": "code",
    "id": "9Q-oNfVGAmq3"
   },
   "outputs": [],
   "source": [
    "import itertools\n",
    "\n",
    "def plot_confusion_matrix(cm, classes,\n",
    "                          normalize=False,\n",
    "                          title='Confusion matrix',\n",
    "                          cmap=plt.cm.Blues):\n",
    "    \"\"\"\n",
    "    This function prints and plots the confusion matrix.\n",
    "    Normalization can be applied by setting `normalize=True`.\n",
    "    \"\"\"\n",
    "    if normalize:\n",
    "        cm = cm.astype('float') / cm.sum(axis=1)[:, np.newaxis]\n",
    "        print(\"Normalized confusion matrix\")\n",
    "    else:\n",
    "        print('Confusion matrix, without normalization')\n",
    "\n",
    "    print(cm)\n",
    "\n",
    "    plt.imshow(cm, interpolation='nearest', cmap=cmap)\n",
    "    plt.title(title)\n",
    "    plt.colorbar()\n",
    "    tick_marks = np.arange(len(classes))\n",
    "    plt.xticks(tick_marks, classes, rotation=45)\n",
    "    plt.yticks(tick_marks, classes)\n",
    "\n",
    "    fmt = '.2f' if normalize else 'd'\n",
    "    thresh = cm.max() / 2.\n",
    "    for i, j in itertools.product(range(cm.shape[0]), range(cm.shape[1])):\n",
    "        plt.text(j, i, format(cm[i, j], fmt),\n",
    "                 horizontalalignment=\"center\",\n",
    "                 color=\"white\" if cm[i, j] > thresh else \"black\")\n",
    "\n",
    "    plt.ylabel('True label')\n",
    "    plt.xlabel('Predicted label')\n",
    "    plt.tight_layout()"
   ]
  },
  {
   "cell_type": "markdown",
   "metadata": {
    "colab_type": "text",
    "id": "JTss-sxDmmsg"
   },
   "source": [
    "## Visualize Outputs Between Layers"
   ]
  },
  {
   "cell_type": "code",
   "execution_count": 0,
   "metadata": {
    "colab": {},
    "colab_type": "code",
    "id": "gRqOMadpSDXT"
   },
   "outputs": [],
   "source": [
    "from keras.backend import squeeze\n",
    "from PIL import Image"
   ]
  },
  {
   "cell_type": "code",
   "execution_count": 0,
   "metadata": {
    "colab": {
     "base_uri": "https://localhost:8080/",
     "height": 164
    },
    "colab_type": "code",
    "id": "hpHFM3U4MeNO",
    "outputId": "6e118c72-fffd-4100-98ff-4cfc0d25c64f"
   },
   "outputs": [
    {
     "ename": "NameError",
     "evalue": "ignored",
     "output_type": "error",
     "traceback": [
      "\u001b[0;31m---------------------------------------------------------------------------\u001b[0m",
      "\u001b[0;31mNameError\u001b[0m                                 Traceback (most recent call last)",
      "\u001b[0;32m<ipython-input-10-7b38c30b44e9>\u001b[0m in \u001b[0;36m<module>\u001b[0;34m()\u001b[0m\n\u001b[0;32m----> 1\u001b[0;31m \u001b[0mimagenet_model\u001b[0m \u001b[0;34m=\u001b[0m \u001b[0mload_model\u001b[0m\u001b[0;34m(\u001b[0m\u001b[0;34m'testing/imagenet_model'\u001b[0m\u001b[0;34m)\u001b[0m\u001b[0;34m\u001b[0m\u001b[0;34m\u001b[0m\u001b[0m\n\u001b[0m",
      "\u001b[0;31mNameError\u001b[0m: name 'load_model' is not defined"
     ]
    }
   ],
   "source": [
    "imagenet_model = load_model('testing/imagenet_model')"
   ]
  },
  {
   "cell_type": "code",
   "execution_count": 0,
   "metadata": {
    "colab": {
     "base_uri": "https://localhost:8080/",
     "height": 34
    },
    "colab_type": "code",
    "id": "UElkJaILZ1ci",
    "outputId": "663263ee-695d-400b-e824-2310a357f88b"
   },
   "outputs": [
    {
     "data": {
      "text/plain": [
       "(1, 224, 224, 3)"
      ]
     },
     "execution_count": 99,
     "metadata": {
      "tags": []
     },
     "output_type": "execute_result"
    }
   ],
   "source": [
    "img = load_img('testing/hotdog1.jpg', target_size=(224, 224))\n",
    "# plt.imshow(img)\n",
    "img_tensor = img_to_array(img)\n",
    "img_tensor = np.expand_dims(img_tensor, axis=0)\n",
    "img_tensor /= 255.\n",
    "img_tensor.shape"
   ]
  },
  {
   "cell_type": "code",
   "execution_count": 0,
   "metadata": {
    "colab": {},
    "colab_type": "code",
    "id": "5_W8hA9oMfID"
   },
   "outputs": [],
   "source": [
    "# Extract model layer outputs\n",
    "layer_outputs = [layer.output for layer in imagenet_model.layers[1:300]]\n",
    "\n",
    "# Rather then a model with a single output, we are going to make a model to display the feature maps\n",
    "activation_model = models.Model(inputs=imagenet_model.input, outputs=layer_outputs)"
   ]
  },
  {
   "cell_type": "code",
   "execution_count": 0,
   "metadata": {
    "colab": {},
    "colab_type": "code",
    "id": "alqdV5a0Ol6Q"
   },
   "outputs": [],
   "source": [
    "activations = activation_model.predict(img_tensor)"
   ]
  },
  {
   "cell_type": "code",
   "execution_count": 0,
   "metadata": {
    "colab": {},
    "colab_type": "code",
    "id": "pLy4wr41QnpB"
   },
   "outputs": [],
   "source": [
    "first_layer_activation = activations[1]"
   ]
  },
  {
   "cell_type": "code",
   "execution_count": 0,
   "metadata": {
    "colab": {
     "base_uri": "https://localhost:8080/",
     "height": 34
    },
    "colab_type": "code",
    "id": "eaP1UbL7SshX",
    "outputId": "c160fd41-b452-46be-e6f2-df98caf1bfa2"
   },
   "outputs": [
    {
     "data": {
      "text/plain": [
       "(54, 54, 80)"
      ]
     },
     "execution_count": 129,
     "metadata": {
      "tags": []
     },
     "output_type": "execute_result"
    }
   ],
   "source": [
    "activation_array = np.array(first_layer_activation)\n",
    "activation_array = np.uint8(activation_array*255)\n",
    "\n",
    "activation_array[0, :].shape"
   ]
  },
  {
   "cell_type": "code",
   "execution_count": 0,
   "metadata": {
    "colab": {},
    "colab_type": "code",
    "id": "5IWyHDgSXWmj"
   },
   "outputs": [],
   "source": [
    "img_activation = Image.fromarray(activation_array[0, :], 'RGB')"
   ]
  },
  {
   "cell_type": "code",
   "execution_count": 0,
   "metadata": {
    "colab": {
     "base_uri": "https://localhost:8080/",
     "height": 348
    },
    "colab_type": "code",
    "id": "YqPFxEK8Qxao",
    "outputId": "cbd457ef-8848-4ac4-8935-3ab36af41b95"
   },
   "outputs": [
    {
     "data": {
      "image/png": "[encoded data removed]",
      "text/plain": [
       "<Figure size 576x396 with 1 Axes>"
      ]
     },
     "metadata": {
      "tags": []
     },
     "output_type": "display_data"
    }
   ],
   "source": [
    "plt.imshow(activation_array[0, :, :, 7], cmap='viridis')\n",
    "plt.show()"
   ]
  },
  {
   "cell_type": "code",
   "execution_count": 0,
   "metadata": {
    "colab": {
     "base_uri": "https://localhost:8080/",
     "height": 462
    },
    "colab_type": "code",
    "id": "sP8jGkEtbZjC",
    "outputId": "148772a2-21e7-4b08-f1a5-d900e6769bbb"
   },
   "outputs": [
    {
     "name": "stdout",
     "output_type": "stream",
     "text": [
      "Collecting lime\n",
      "\u001b[?25l  Downloading https://files.pythonhosted.org/packages/28/59/8342382ba3301ec02a9d1a30a6d9d9c19484344a9201c5c3d83295332d44/lime-0.1.1.32.tar.gz (266kB)\n",
      "\u001b[K    100% |████████████████████████████████| 276kB 12.0MB/s \n",
      "\u001b[?25hRequirement already satisfied: numpy in /usr/local/lib/python3.6/dist-packages (from lime) (1.14.6)\n",
      "Requirement already satisfied: scipy in /usr/local/lib/python3.6/dist-packages (from lime) (1.1.0)\n",
      "Requirement already satisfied: scikit-learn>=0.18 in /usr/local/lib/python3.6/dist-packages (from lime) (0.20.2)\n",
      "Requirement already satisfied: scikit-image>=0.12 in /usr/local/lib/python3.6/dist-packages (from lime) (0.13.1)\n",
      "Requirement already satisfied: networkx>=1.8 in /usr/local/lib/python3.6/dist-packages (from scikit-image>=0.12->lime) (2.2)\n",
      "Requirement already satisfied: matplotlib>=1.3.1 in /usr/local/lib/python3.6/dist-packages (from scikit-image>=0.12->lime) (3.0.2)\n",
      "Requirement already satisfied: six>=1.7.3 in /usr/local/lib/python3.6/dist-packages (from scikit-image>=0.12->lime) (1.11.0)\n",
      "Requirement already satisfied: PyWavelets>=0.4.0 in /usr/local/lib/python3.6/dist-packages (from scikit-image>=0.12->lime) (1.0.1)\n",
      "Requirement already satisfied: pillow>=2.1.0 in /usr/local/lib/python3.6/dist-packages (from scikit-image>=0.12->lime) (4.0.0)\n",
      "Requirement already satisfied: decorator>=4.3.0 in /usr/local/lib/python3.6/dist-packages (from networkx>=1.8->scikit-image>=0.12->lime) (4.3.0)\n",
      "Requirement already satisfied: kiwisolver>=1.0.1 in /usr/local/lib/python3.6/dist-packages (from matplotlib>=1.3.1->scikit-image>=0.12->lime) (1.0.1)\n",
      "Requirement already satisfied: cycler>=0.10 in /usr/local/lib/python3.6/dist-packages (from matplotlib>=1.3.1->scikit-image>=0.12->lime) (0.10.0)\n",
      "Requirement already satisfied: python-dateutil>=2.1 in /usr/local/lib/python3.6/dist-packages (from matplotlib>=1.3.1->scikit-image>=0.12->lime) (2.5.3)\n",
      "Requirement already satisfied: pyparsing!=2.0.4,!=2.1.2,!=2.1.6,>=2.0.1 in /usr/local/lib/python3.6/dist-packages (from matplotlib>=1.3.1->scikit-image>=0.12->lime) (2.3.1)\n",
      "Requirement already satisfied: olefile in /usr/local/lib/python3.6/dist-packages (from pillow>=2.1.0->scikit-image>=0.12->lime) (0.46)\n",
      "Requirement already satisfied: setuptools in /usr/local/lib/python3.6/dist-packages (from kiwisolver>=1.0.1->matplotlib>=1.3.1->scikit-image>=0.12->lime) (40.6.3)\n",
      "Building wheels for collected packages: lime\n",
      "  Running setup.py bdist_wheel for lime ... \u001b[?25l-\b \b\\\b \bdone\n",
      "\u001b[?25h  Stored in directory: /root/.cache/pip/wheels/48/13/7c/20792e4efe5fd04237c0ac92bc8551acfe36392e09953ac8ea\n",
      "Successfully built lime\n",
      "Installing collected packages: lime\n",
      "Successfully installed lime-0.1.1.32\n"
     ]
    }
   ],
   "source": [
    "!pip install lime"
   ]
  },
  {
   "cell_type": "code",
   "execution_count": 0,
   "metadata": {
    "colab": {},
    "colab_type": "code",
    "id": "f5JyvNHIdgtM"
   },
   "outputs": [],
   "source": [
    "import lime"
   ]
  },
  {
   "cell_type": "code",
   "execution_count": 0,
   "metadata": {
    "colab": {},
    "colab_type": "code",
    "id": "W2DADj5UdrmM"
   },
   "outputs": [],
   "source": []
  },
  {
   "cell_type": "code",
   "execution_count": 0,
   "metadata": {
    "colab": {},
    "colab_type": "code",
    "id": "XAC4AKsGm_gO"
   },
   "outputs": [],
   "source": []
  }
 ],
 "metadata": {
  "accelerator": "GPU",
  "colab": {
   "collapsed_sections": [
    "yqt9Rx1KDqGg",
    "cbLISkcL73vV",
    "DuS_YYE_73vo",
    "HpsTpDmJ73vu",
    "q8J_7JJO73v5",
    "pHHySBbW73wZ",
    "JvY50TmJ73wa",
    "AoKw8sdw73xV"
   ],
   "name": "base_model.ipynb",
   "provenance": [],
   "toc_visible": true,
   "version": "0.3.2"
  },
  "kernelspec": {
   "display_name": "Python 3",
   "language": "python",
   "name": "python3"
  },
  "language_info": {
   "codemirror_mode": {
    "name": "ipython",
    "version": 3
   },
   "file_extension": ".py",
   "mimetype": "text/x-python",
   "name": "python",
   "nbconvert_exporter": "python",
   "pygments_lexer": "ipython3",
   "version": "3.7.2"
  }
 },
 "nbformat": 4,
 "nbformat_minor": 1
}
